{
 "cells": [
  {
   "cell_type": "markdown",
   "id": "dc5362ef",
   "metadata": {},
   "source": [
    "1. Assign the value 7 to the variable guess_me. Then, write the conditional tests (if, else, and elif) to\n",
    "print the string &#39;too low&#39; if guess_me is less than 7, &#39;too high&#39; if greater than 7, and &#39;just right&#39; if equal\n",
    "to 7."
   ]
  },
  {
   "cell_type": "code",
   "execution_count": 1,
   "id": "79ccaa8a",
   "metadata": {},
   "outputs": [
    {
     "name": "stdout",
     "output_type": "stream",
     "text": [
      "Please enter the number 7 :-6\n",
      "too low\n"
     ]
    }
   ],
   "source": [
    "guess_me = int(input('Please enter the number 7 :-',))\n",
    "\n",
    "if guess_me >7:\n",
    "    print('too high')\n",
    "elif guess_me<7:\n",
    "    print('too low')\n",
    "elif guess_me==7:\n",
    "    print('just right')\n",
    "else:\n",
    "    print('Sorry !!')"
   ]
  },
  {
   "cell_type": "markdown",
   "id": "417c5920",
   "metadata": {},
   "source": [
    "2. Assign the value 7 to the variable guess_me and the value 1 to the variable start. Write a while\n",
    "loop that compares start with guess_me. Print too low if start is less than guess me. If start equals\n",
    "guess_me, print &#39;found it!&#39; and exit the loop. If start is greater than guess_me, print &#39;oops&#39; and exit\n",
    "the loop. Increment start at the end of the loop."
   ]
  },
  {
   "cell_type": "code",
   "execution_count": 5,
   "id": "7cf891ad",
   "metadata": {},
   "outputs": [
    {
     "name": "stdout",
     "output_type": "stream",
     "text": [
      "found it !!\n"
     ]
    }
   ],
   "source": [
    "guess_me = 7\n",
    "start =7\n",
    "i=1\n",
    "while i>0:\n",
    "    if start < guess_me:\n",
    "        print('too low')\n",
    "    elif start > guess_me:\n",
    "        print('oops')\n",
    "    elif start==guess_me:\n",
    "        print('found it !!')\n",
    "    break\n",
    "    i+=1"
   ]
  },
  {
   "cell_type": "markdown",
   "id": "585ce98c",
   "metadata": {},
   "source": [
    "3. Print the following values of the list [3, 2, 1, 0] using a for loop."
   ]
  },
  {
   "cell_type": "code",
   "execution_count": 6,
   "id": "ba9ee54c",
   "metadata": {},
   "outputs": [
    {
     "name": "stdout",
     "output_type": "stream",
     "text": [
      "3 2 1 0 "
     ]
    }
   ],
   "source": [
    "lst = [3,2,1,0]\n",
    "\n",
    "for i in lst:\n",
    "    print(i,end=' ')"
   ]
  },
  {
   "cell_type": "markdown",
   "id": "d7f97d76",
   "metadata": {},
   "source": [
    "4. Use a list comprehension to make a list of the even numbers in range(10)"
   ]
  },
  {
   "cell_type": "code",
   "execution_count": 7,
   "id": "190af41f",
   "metadata": {},
   "outputs": [
    {
     "data": {
      "text/plain": [
       "[0, 2, 4, 6, 8]"
      ]
     },
     "execution_count": 7,
     "metadata": {},
     "output_type": "execute_result"
    }
   ],
   "source": [
    "[i for i in range(10) if i%2==0]"
   ]
  },
  {
   "cell_type": "markdown",
   "id": "b5be6c0e",
   "metadata": {},
   "source": [
    "5. Use a dictionary comprehension to create the dictionary squares. Use range(10) to return the\n",
    "keys, and use the square of each key as its value."
   ]
  },
  {
   "cell_type": "code",
   "execution_count": 8,
   "id": "ee77d685",
   "metadata": {},
   "outputs": [
    {
     "data": {
      "text/plain": [
       "{0: 0, 1: 1, 2: 4, 3: 9, 4: 16, 5: 25, 6: 36, 7: 49, 8: 64, 9: 81}"
      ]
     },
     "execution_count": 8,
     "metadata": {},
     "output_type": "execute_result"
    }
   ],
   "source": [
    "{i:i*i for i in range(10)}"
   ]
  },
  {
   "cell_type": "markdown",
   "id": "932f17bb",
   "metadata": {},
   "source": [
    "8. Define a function called good that returns the list [&#39;Harry&#39;, &#39;Ron&#39;, &#39;Hermione&#39;]."
   ]
  },
  {
   "cell_type": "code",
   "execution_count": 9,
   "id": "b2fde67b",
   "metadata": {},
   "outputs": [],
   "source": [
    "def good():\n",
    "    return ['Harry','Ron','Hermione']"
   ]
  },
  {
   "cell_type": "code",
   "execution_count": 10,
   "id": "6058e18d",
   "metadata": {},
   "outputs": [
    {
     "data": {
      "text/plain": [
       "['Harry', 'Ron', 'Hermione']"
      ]
     },
     "execution_count": 10,
     "metadata": {},
     "output_type": "execute_result"
    }
   ],
   "source": [
    "good()"
   ]
  },
  {
   "cell_type": "markdown",
   "id": "b68eb2cf",
   "metadata": {},
   "source": [
    "9. Define a generator function called get_odds that returns the odd numbers from range(10). Use a\n",
    "for loop to find and print the third value returned."
   ]
  },
  {
   "cell_type": "code",
   "execution_count": 11,
   "id": "a6ccc804",
   "metadata": {},
   "outputs": [],
   "source": [
    "def get_odds(n=10):\n",
    "    for i in range(n):\n",
    "        if i%2!=0:\n",
    "            yield i"
   ]
  },
  {
   "cell_type": "code",
   "execution_count": 12,
   "id": "b35ea157",
   "metadata": {},
   "outputs": [
    {
     "name": "stdout",
     "output_type": "stream",
     "text": [
      "7\n"
     ]
    }
   ],
   "source": [
    "for i,j in enumerate(get_odds()):\n",
    "    if i ==3:\n",
    "        print(j)"
   ]
  },
  {
   "cell_type": "markdown",
   "id": "cf5f81ba",
   "metadata": {},
   "source": [
    "10. Define an exception called OopsException. Raise this exception to see what happens. Then write\n",
    "the code to catch this exception and print &#39;Caught an oops&#39;."
   ]
  },
  {
   "cell_type": "markdown",
   "id": "fb1cb4b4",
   "metadata": {},
   "source": [
    "OopsException :- An exception is an event, which occurs during the execution of a program that disrupts the normal flow of the program's instructions. In general, when a Python script encounters a situation that it cannot cope with, it raises an exception. An exception is a Python object that represents an error.\n",
    "\n",
    "Syntax error\n",
    "Run-time eror or compile error."
   ]
  },
  {
   "cell_type": "code",
   "execution_count": 34,
   "id": "7597cabc",
   "metadata": {},
   "outputs": [
    {
     "name": "stdout",
     "output_type": "stream",
     "text": [
      "you have enterred a negative number\n"
     ]
    }
   ],
   "source": [
    "def func(n):\n",
    "    try:\n",
    "        if n>=0:\n",
    "            print(\"you have entered a positive number\")\n",
    "        else:\n",
    "            print(\"you have enterred a negative number\")\n",
    "    except:\n",
    "        print(\"opps there is an error\")\n",
    "        \n",
    "func(-1)"
   ]
  },
  {
   "cell_type": "markdown",
   "id": "2d8cc82b",
   "metadata": {},
   "source": [
    "11. Use zip() to make a dictionary called movies that pairs these lists: titles = [&#39;Creature of Habit&#39;,\n",
    "&#39;Crewel Fate&#39;] and plots = [&#39;A nun turns into a monster&#39;, &#39;A haunted yarn shop&#39;]."
   ]
  },
  {
   "cell_type": "code",
   "execution_count": 19,
   "id": "5613a74e",
   "metadata": {},
   "outputs": [],
   "source": [
    "titles = ['Creature of Habit','Crewel Fate']\n",
    "plots  = ['A nun turns into a monster','A haunted yarn shop']"
   ]
  },
  {
   "cell_type": "code",
   "execution_count": 20,
   "id": "883a88b1",
   "metadata": {},
   "outputs": [
    {
     "name": "stdout",
     "output_type": "stream",
     "text": [
      "{'Creature of Habit': 'A nun turns into a monster', 'Crewel Fate': 'A haunted yarn shop'}\n"
     ]
    }
   ],
   "source": [
    "zip_iter = zip(titles,plots)\n",
    "movies = dict(zip_iter)\n",
    "print(movies)"
   ]
  }
 ],
 "metadata": {
  "kernelspec": {
   "display_name": "Python 3 (ipykernel)",
   "language": "python",
   "name": "python3"
  },
  "language_info": {
   "codemirror_mode": {
    "name": "ipython",
    "version": 3
   },
   "file_extension": ".py",
   "mimetype": "text/x-python",
   "name": "python",
   "nbconvert_exporter": "python",
   "pygments_lexer": "ipython3",
   "version": "3.9.12"
  }
 },
 "nbformat": 4,
 "nbformat_minor": 5
}
