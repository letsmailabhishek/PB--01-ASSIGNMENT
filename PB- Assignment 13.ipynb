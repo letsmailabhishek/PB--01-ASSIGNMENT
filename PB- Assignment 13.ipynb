{
 "cells": [
  {
   "cell_type": "markdown",
   "id": "e9b0184c",
   "metadata": {},
   "source": [
    "1. What advantages do Excel spreadsheets have over CSV spreadsheets?"
   ]
  },
  {
   "cell_type": "markdown",
   "id": "53414f5b",
   "metadata": {},
   "source": [
    "#ans\n",
    "1-It can possible to pretect the excel spreadsheet with password wherease CSV is not having these kind of property.\n",
    "2-Excel have an VBA coding,functions,formuales and create summaries easily whereas in csv it does not have that kind of facilities.\n",
    "3-Reading large dataset its very easy for end user but it is not in case of CSV file.\n",
    "4-Excel is providing the user options for external linking of the data from the other sources where it is happening inside the CSV spreadsheets.\n",
    "5-Excel is not a measure of a store of information only, but also it is a tool for a financial analyst to perform a deep analysis of data and numbers. An analyst can build profit and loss statements, do ratio analysis, make summaries of huge data, and performs functions and formulas in excel format."
   ]
  },
  {
   "cell_type": "markdown",
   "id": "d87d27af",
   "metadata": {},
   "source": [
    "2.What do you pass to csv.reader() and csv.writer() to create reader and writer objects?"
   ]
  },
  {
   "cell_type": "code",
   "execution_count": 1,
   "id": "93c49744",
   "metadata": {},
   "outputs": [],
   "source": [
    "file = open('Text.csv','w')\n",
    "file.write('This is my new text file .')\n",
    "file.close()"
   ]
  },
  {
   "cell_type": "code",
   "execution_count": 2,
   "id": "838bd81e",
   "metadata": {},
   "outputs": [],
   "source": [
    "from csv import reader,writer"
   ]
  },
  {
   "cell_type": "code",
   "execution_count": 3,
   "id": "f235fb7e",
   "metadata": {},
   "outputs": [
    {
     "name": "stdout",
     "output_type": "stream",
     "text": [
      "This is my new text file ."
     ]
    }
   ],
   "source": [
    "with open('Text.csv', newline='') as csvfile:\n",
    "    csv_reader = reader(csvfile,delimiter=' ',quotechar='|')\n",
    "    for line in csv_reader:\n",
    "        print(' '.join(line),end='')\n"
   ]
  },
  {
   "cell_type": "code",
   "execution_count": 4,
   "id": "e443137a",
   "metadata": {},
   "outputs": [],
   "source": [
    "with open('Text.csv', mode='w',newline='') as csvfile:\n",
    "    csv_writer = writer(csvfile,delimiter=' ')\n",
    "    csv_writer.writerow(['I love data science '])\n",
    "    csv_writer.writerow(['This is wonderful.'])"
   ]
  },
  {
   "cell_type": "code",
   "execution_count": 5,
   "id": "eaafec46",
   "metadata": {},
   "outputs": [
    {
     "name": "stdout",
     "output_type": "stream",
     "text": [
      "\"I love data science \"\n",
      "\"This is wonderful.\"\n"
     ]
    }
   ],
   "source": [
    "file = open('Text.csv','r')\n",
    "for i in file.readlines():\n",
    "    print(i,end='')"
   ]
  },
  {
   "cell_type": "markdown",
   "id": "d7208f5f",
   "metadata": {},
   "source": [
    "3. What modes do File objects for reader and writer objects need to be opened in?"
   ]
  },
  {
   "cell_type": "markdown",
   "id": "2b8c5a19",
   "metadata": {},
   "source": [
    "ans -\n",
    "1-For the reader we required r mode to read the file\n",
    "2-For the writer we required w mode to write the something in file."
   ]
  },
  {
   "cell_type": "markdown",
   "id": "095a24f6",
   "metadata": {},
   "source": [
    "4. What method takes a list argument and writes it to a CSV file?"
   ]
  },
  {
   "cell_type": "code",
   "execution_count": 6,
   "id": "acca3fe7",
   "metadata": {},
   "outputs": [],
   "source": [
    "with open('Text.csv', mode='w',newline='') as csvfile:\n",
    "    csv_writer = writer(csvfile,delimiter=' ')\n",
    "    csv_writer.writerow(['I am a student a ineron'])\n",
    "    csv_writer.writerow(['i love data science.'])"
   ]
  },
  {
   "cell_type": "markdown",
   "id": "7f3d8917",
   "metadata": {},
   "source": [
    "5. What do the keyword arguments delimiter and line terminator do?"
   ]
  },
  {
   "cell_type": "markdown",
   "id": "8d22cfb4",
   "metadata": {},
   "source": [
    "Delimiter :- It is use to decide on which file has to seperated like in above I used the delimiter is space and word are getting seperated by space as well.It upto u what kind delimiter you want to use it.\n",
    "\n",
    "Line Terminator :- It is used to get the new line and line is getting is terminated at the end inside the paragraph in csv file.The string used to terminate lines produced by the writer."
   ]
  },
  {
   "cell_type": "markdown",
   "id": "6ad7d692",
   "metadata": {},
   "source": [
    "6. What function takes a string of JSON data and returns a Python data structure?"
   ]
  },
  {
   "cell_type": "code",
   "execution_count": 7,
   "id": "1e83407e",
   "metadata": {},
   "outputs": [],
   "source": [
    "import json\n",
    "js = '{\"Details\":{\"abhishek\":\"data scientist\",\"Year\":2022}}'"
   ]
  },
  {
   "cell_type": "code",
   "execution_count": 8,
   "id": "81d18a6e",
   "metadata": {},
   "outputs": [
    {
     "name": "stdout",
     "output_type": "stream",
     "text": [
      "{'Details': {'abhishek': 'data scientist', 'Year': 2022}}\n",
      "Type of obj <class 'dict'>\n",
      "Details...... {'abhishek': 'data scientist', 'Year': 2022}\n"
     ]
    }
   ],
   "source": [
    "obj = json.loads(js)\n",
    "print(obj)\n",
    "print(\"Type of obj\", type(obj))\n",
    "print(\"Details......\",  obj.get('Details'))"
   ]
  },
  {
   "cell_type": "markdown",
   "id": "2e122bae",
   "metadata": {},
   "source": [
    "7. What function takes a Python data structure and returns a string of JSON data?"
   ]
  },
  {
   "cell_type": "code",
   "execution_count": 10,
   "id": "e176497a",
   "metadata": {},
   "outputs": [],
   "source": [
    "var = {\n",
    "      \"Subjects\": {\n",
    "                  \"Maths\":85,\n",
    "                  \"Physics\":90\n",
    "                   }\n",
    "      }\n",
    "\n",
    "\n",
    "with open(\"Sample.json\", \"w\") as p:\n",
    "     json.dump(var,p)"
   ]
  },
  {
   "cell_type": "code",
   "execution_count": 11,
   "id": "3f193dd2",
   "metadata": {},
   "outputs": [
    {
     "data": {
      "text/plain": [
       "'{\"Subjects\": {\"Maths\": 85, \"Physics\": 90}}'"
      ]
     },
     "execution_count": 11,
     "metadata": {},
     "output_type": "execute_result"
    }
   ],
   "source": [
    "file = open('sample.json','r')\n",
    "file.read()"
   ]
  }
 ],
 "metadata": {
  "kernelspec": {
   "display_name": "Python 3 (ipykernel)",
   "language": "python",
   "name": "python3"
  },
  "language_info": {
   "codemirror_mode": {
    "name": "ipython",
    "version": 3
   },
   "file_extension": ".py",
   "mimetype": "text/x-python",
   "name": "python",
   "nbconvert_exporter": "python",
   "pygments_lexer": "ipython3",
   "version": "3.9.12"
  }
 },
 "nbformat": 4,
 "nbformat_minor": 5
}
