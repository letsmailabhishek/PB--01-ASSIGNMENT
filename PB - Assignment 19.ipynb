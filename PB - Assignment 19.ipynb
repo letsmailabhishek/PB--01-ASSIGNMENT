{
 "cells": [
  {
   "cell_type": "markdown",
   "id": "16755895",
   "metadata": {},
   "source": [
    "1. Make a class called Thing with no contents and print it. Then, create an object called example\n",
    "from this class and also print it. Are the printed values the same or different?"
   ]
  },
  {
   "cell_type": "code",
   "execution_count": 4,
   "id": "f5b2e9af",
   "metadata": {},
   "outputs": [],
   "source": [
    "class thing:\n",
    "    pass"
   ]
  },
  {
   "cell_type": "code",
   "execution_count": 5,
   "id": "3083ef1f",
   "metadata": {},
   "outputs": [
    {
     "name": "stdout",
     "output_type": "stream",
     "text": [
      "<__main__.thing object at 0x000001EF65ABDD90>\n"
     ]
    }
   ],
   "source": [
    "example = thing()\n",
    "print(example)"
   ]
  },
  {
   "cell_type": "markdown",
   "id": "ef6b5641",
   "metadata": {},
   "source": [
    "The printed values are different"
   ]
  },
  {
   "cell_type": "markdown",
   "id": "8eb79ab3",
   "metadata": {},
   "source": [
    "2. Create a new class called Thing2 and add the value &#39;abc&#39; to the letters class attribute. Letters\n",
    "should be printed."
   ]
  },
  {
   "cell_type": "code",
   "execution_count": 6,
   "id": "09662376",
   "metadata": {},
   "outputs": [
    {
     "name": "stdout",
     "output_type": "stream",
     "text": [
      "abc\n"
     ]
    }
   ],
   "source": [
    "class thing2:\n",
    "    value = \"abc\"\n",
    "    def __init__(self, a):\n",
    "        self.a = a\n",
    "        \n",
    "letter = thing2('abc')\n",
    "print(letter.a)"
   ]
  },
  {
   "cell_type": "markdown",
   "id": "f156f3ea",
   "metadata": {},
   "source": [
    "3. Make yet another class called, of course, Thing3. This time, assign the value &#39;xyz&#39; to an instance\n",
    "(object) attribute called letters. Print letters. Do you need to make an object from the class to do\n",
    "this?"
   ]
  },
  {
   "cell_type": "code",
   "execution_count": 7,
   "id": "6add782e",
   "metadata": {},
   "outputs": [
    {
     "name": "stdout",
     "output_type": "stream",
     "text": [
      "xyz\n"
     ]
    }
   ],
   "source": [
    "class Thing3:\n",
    "    \n",
    "    def __init__(self,a):\n",
    "        self.a = a\n",
    "\n",
    "letter = Thing3('xyz')\n",
    "print(letter.a)"
   ]
  },
  {
   "cell_type": "markdown",
   "id": "e642e109",
   "metadata": {},
   "source": [
    "4. Create an Element class with the instance attributes name, symbol, and number. Create a class\n",
    "object with the values &#39;Hydrogen,&#39; &#39;H,&#39; and 1."
   ]
  },
  {
   "cell_type": "code",
   "execution_count": 8,
   "id": "2b57456b",
   "metadata": {},
   "outputs": [
    {
     "name": "stdout",
     "output_type": "stream",
     "text": [
      "Hydrogen\n",
      "H\n",
      "1\n"
     ]
    }
   ],
   "source": [
    "class Element:\n",
    "    \n",
    "    def __init__(self,name,symbol,number):\n",
    "        self.name = name\n",
    "        self.symbol = symbol\n",
    "        self.number = number\n",
    "        \n",
    "obj = Element('Hydrogen','H',1)\n",
    "print(obj.name)\n",
    "print(obj.symbol)\n",
    "print(obj.number)"
   ]
  },
  {
   "cell_type": "markdown",
   "id": "8d1acb60",
   "metadata": {},
   "source": [
    "5. Make a dictionary with these keys and values: &#39;name&#39;: &#39;Hydrogen&#39;, &#39;symbol&#39;: &#39;H&#39;, &#39;number&#39;: 1. Then,\n",
    "create an object called hydrogen from class Element using this dictionary."
   ]
  },
  {
   "cell_type": "code",
   "execution_count": 10,
   "id": "507b3503",
   "metadata": {},
   "outputs": [
    {
     "ename": "NameError",
     "evalue": "name 'sample' is not defined",
     "output_type": "error",
     "traceback": [
      "\u001b[1;31m---------------------------------------------------------------------------\u001b[0m",
      "\u001b[1;31mNameError\u001b[0m                                 Traceback (most recent call last)",
      "Input \u001b[1;32mIn [10]\u001b[0m, in \u001b[0;36m<cell line: 9>\u001b[1;34m()\u001b[0m\n\u001b[0;32m      5\u001b[0m         \u001b[38;5;28mself\u001b[39m\u001b[38;5;241m.\u001b[39mnumber \u001b[38;5;241m=\u001b[39m number\n\u001b[0;32m      7\u001b[0m         sample \u001b[38;5;241m=\u001b[39m{\u001b[38;5;124m\"\u001b[39m\u001b[38;5;124mname\u001b[39m\u001b[38;5;124m\"\u001b[39m:\u001b[38;5;124m\"\u001b[39m\u001b[38;5;124mHydrogen\u001b[39m\u001b[38;5;124m\"\u001b[39m,\u001b[38;5;124m\"\u001b[39m\u001b[38;5;124msymbol\u001b[39m\u001b[38;5;124m\"\u001b[39m:\u001b[38;5;124m\"\u001b[39m\u001b[38;5;124mH\u001b[39m\u001b[38;5;124m\"\u001b[39m,\u001b[38;5;124m\"\u001b[39m\u001b[38;5;124mnumber\u001b[39m\u001b[38;5;124m\"\u001b[39m:\u001b[38;5;241m1\u001b[39m}\n\u001b[1;32m----> 9\u001b[0m hydrogen \u001b[38;5;241m=\u001b[39m Element({i[\u001b[38;5;241m0\u001b[39m] \u001b[38;5;28;01mfor\u001b[39;00m i \u001b[38;5;129;01min\u001b[39;00m \u001b[43msample\u001b[49m},{i[\u001b[38;5;241m1\u001b[39m] \u001b[38;5;28;01mfor\u001b[39;00m i \u001b[38;5;129;01min\u001b[39;00m sample},{i[\u001b[38;5;241m2\u001b[39m] \u001b[38;5;28;01mfor\u001b[39;00m i \u001b[38;5;129;01min\u001b[39;00m sample})\n\u001b[0;32m     10\u001b[0m \u001b[38;5;28mprint\u001b[39m(obj\u001b[38;5;241m.\u001b[39mname)\n",
      "\u001b[1;31mNameError\u001b[0m: name 'sample' is not defined"
     ]
    }
   ],
   "source": [
    "class Element:\n",
    "    def __init__(self,name,symbol,number):\n",
    "        self.name = name\n",
    "        self.symbol = symbol\n",
    "        self.number = number\n",
    "        \n",
    "        sample ={\"name\":\"Hydrogen\",\"symbol\":\"H\",\"number\":1}\n",
    "\n",
    "hydrogen = Element({i[0] for i in sample},{i[1] for i in sample},{i[2] for i in sample})\n",
    "print(obj.name)"
   ]
  },
  {
   "cell_type": "markdown",
   "id": "5150cc2e",
   "metadata": {},
   "source": [
    "6. For the Element class, define a method called dump() that prints the values of the object’s\n",
    "attributes (name, symbol, and number). Create the hydrogen object from this new definition and\n",
    "use dump() to print its attributes."
   ]
  },
  {
   "cell_type": "code",
   "execution_count": 11,
   "id": "042a876c",
   "metadata": {},
   "outputs": [
    {
     "name": "stdout",
     "output_type": "stream",
     "text": [
      "Hydrogen\n",
      "H\n",
      "1\n"
     ]
    }
   ],
   "source": [
    "class Element:\n",
    "    \n",
    "    def __init__(self,name,symbol,number):\n",
    "        self.name = name\n",
    "        self.symbol = symbol\n",
    "        self.number = number\n",
    "        \n",
    "    def dump(self):\n",
    "        return self.name,self.symbol,self.number\n",
    "\n",
    "hydrogen = Element('Hydrogen','H',1)\n",
    "hydrogen.dump()\n",
    "\n",
    "for i in hydrogen.dump():\n",
    "    print(i)"
   ]
  },
  {
   "cell_type": "markdown",
   "id": "25b02afd",
   "metadata": {},
   "source": [
    "7. Call print(hydrogen). In the definition of Element, change the name of method dump to __str__,\n",
    "create a new hydrogen object, and call print(hydrogen) again."
   ]
  },
  {
   "cell_type": "code",
   "execution_count": 12,
   "id": "1466f9f9",
   "metadata": {},
   "outputs": [
    {
     "name": "stdout",
     "output_type": "stream",
     "text": [
      "<__main__.Element object at 0x000001EF66B5E670>\n"
     ]
    }
   ],
   "source": [
    "class Element:\n",
    "    \n",
    "    def __init__(self,name,symbol,number):\n",
    "        self.name = name\n",
    "        self.symbol = symbol\n",
    "        self.number = number\n",
    "        \n",
    "    def ___str__(self):\n",
    "        return self.name,self.symbol,self.number\n",
    "\n",
    "hydrogen = Element('Hydrogen','H',1)\n",
    "print(hydrogen)"
   ]
  },
  {
   "cell_type": "markdown",
   "id": "486d9cd6",
   "metadata": {},
   "source": [
    "8. Modify Element to make the attributes name, symbol, and number private. Define a getter\n",
    "property for each to return its value."
   ]
  },
  {
   "cell_type": "code",
   "execution_count": 13,
   "id": "4b7996f3",
   "metadata": {},
   "outputs": [
    {
     "name": "stdout",
     "output_type": "stream",
     "text": [
      "Hydrogen\n"
     ]
    }
   ],
   "source": [
    "class Element:\n",
    "    \n",
    "    def __init__(self,name,symbol,number):\n",
    "        self._name = name\n",
    "        self._symbol = symbol\n",
    "        self._number = number\n",
    "        \n",
    "    def ___str__(self):\n",
    "        return self._name,self._symbol,self._number\n",
    "\n",
    "hydrogen = Element('Hydrogen','H',1)\n",
    "print(hydrogen._name)"
   ]
  },
  {
   "cell_type": "markdown",
   "id": "56f6152c",
   "metadata": {},
   "source": [
    "Basically, the main purpose of using getters and setters in object-oriented programs is to ensure data encapsulation. Private variables in python are not actually hidden fields like in other object oriented languages. Getters and Setters in python are often used when:\n",
    "\n",
    "* We use getters & setters to add validation logic around getting and setting a value.\n",
    "* To avoid direct access of a class field i.e. private variables cannot be accessed directly or modified by external user.\n",
    "* To achieve getters & setters property, if we define normal get() and set() methods it will not reflect any special implementation.\n",
    "* In Python property()is a built-in function that creates and returns a property object\n",
    "* A property object has three methods, getter(), setter(), and delete().\n",
    "* property() function in Python has four arguments property(fget, fset, fdel, doc),\n",
    "* fget is a function for retrieving an attribute value.\n",
    "* fset is a function for setting an attribute value.\n",
    "* fdel is a function for deleting an attribute value.\n",
    "* doc creates a docstring for attribute.\n",
    "* A property object has three methods, getter(), setter(), and delete() to specify fget, fset and fdel individually"
   ]
  },
  {
   "cell_type": "markdown",
   "id": "0de01b21",
   "metadata": {},
   "source": [
    "9. Define three classes: Bear, Rabbit, and Octothorpe. For each, define only one method: eats(). This\n",
    "should return &#39;berries&#39; (Bear), &#39;clover&#39; (Rabbit), or &#39;campers&#39; (Octothorpe). Create one object from\n",
    "each and print what it eats."
   ]
  },
  {
   "cell_type": "code",
   "execution_count": 14,
   "id": "e45bed78",
   "metadata": {},
   "outputs": [
    {
     "name": "stdout",
     "output_type": "stream",
     "text": [
      "berries\n",
      "clover\n",
      "campers\n"
     ]
    }
   ],
   "source": [
    "class Bear:\n",
    "    \n",
    "    def eats(self):\n",
    "        return 'berries'\n",
    "    \n",
    "class Rabbit:\n",
    "    def eats(self):\n",
    "        \n",
    "        return 'clover'\n",
    "    \n",
    "class Octothorpe:\n",
    "    def eats(self):\n",
    "        return 'campers'\n",
    "\n",
    "obj1 = Bear()\n",
    "obj2 = Rabbit()\n",
    "obj3 = Octothorpe()\n",
    "\n",
    "lst = [obj1,obj2,obj3]\n",
    "\n",
    "for i in lst:\n",
    "    print(i.eats())"
   ]
  },
  {
   "cell_type": "markdown",
   "id": "b5636ef9",
   "metadata": {},
   "source": [
    "10. Define these classes: Laser, Claw, and SmartPhone. Each has only one method: does(). This\n",
    "returns &#39;disintegrate&#39; (Laser), &#39;crush&#39; (Claw), or &#39;ring&#39; (SmartPhone). Then, define the class Robot that\n",
    "has one instance (object) of each of these. Define a does() method for the Robot that prints what its\n",
    "component objects do."
   ]
  },
  {
   "cell_type": "code",
   "execution_count": 15,
   "id": "22e6b4d4",
   "metadata": {},
   "outputs": [
    {
     "name": "stdout",
     "output_type": "stream",
     "text": [
      "disintegrate\n",
      "crush\n",
      "ring\n",
      "what its component objects do.\n"
     ]
    }
   ],
   "source": [
    "class Laser:\n",
    "    def does(self):\n",
    "        return 'disintegrate'\n",
    "    \n",
    "class Claw:\n",
    "    def does(self):\n",
    "        return 'crush'\n",
    "\n",
    "\n",
    "class SmartPhone:\n",
    "    def does(self):\n",
    "        return 'ring'\n",
    "\n",
    "class Robot:\n",
    "    def does(self):\n",
    "        return 'what its component objects do.'\n",
    "        \n",
    "        \n",
    "obj1 = Laser()\n",
    "obj2 = Claw()\n",
    "obj3 = SmartPhone()\n",
    "obj4 = Robot()\n",
    "\n",
    "lst = [obj1,obj2,obj3,obj4]\n",
    "\n",
    "for i in lst:\n",
    "    print(i.does())"
   ]
  }
 ],
 "metadata": {
  "kernelspec": {
   "display_name": "Python 3 (ipykernel)",
   "language": "python",
   "name": "python3"
  },
  "language_info": {
   "codemirror_mode": {
    "name": "ipython",
    "version": 3
   },
   "file_extension": ".py",
   "mimetype": "text/x-python",
   "name": "python",
   "nbconvert_exporter": "python",
   "pygments_lexer": "ipython3",
   "version": "3.9.12"
  }
 },
 "nbformat": 4,
 "nbformat_minor": 5
}
