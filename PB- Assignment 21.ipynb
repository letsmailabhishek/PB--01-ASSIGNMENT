{
 "cells": [
  {
   "cell_type": "markdown",
   "id": "0df7dd76",
   "metadata": {},
   "source": [
    "1. Add the current date to the text file today.txt as a string."
   ]
  },
  {
   "cell_type": "code",
   "execution_count": 1,
   "id": "2f86073e",
   "metadata": {},
   "outputs": [],
   "source": [
    "from datetime import date\n",
    "Todays_date = date.today()\n",
    "date = str(Todays_date)\n",
    "\n",
    "file = open('today.txt','w')\n",
    "file.write(date)\n",
    "file.close()"
   ]
  },
  {
   "cell_type": "markdown",
   "id": "18175e28",
   "metadata": {},
   "source": [
    "2. Read the text file today.txt into the string today_string"
   ]
  },
  {
   "cell_type": "code",
   "execution_count": 2,
   "id": "a87daaf8",
   "metadata": {},
   "outputs": [
    {
     "name": "stdout",
     "output_type": "stream",
     "text": [
      "2023-01-12\n"
     ]
    }
   ],
   "source": [
    "file= open('today.txt','r')\n",
    "string = file.read()\n",
    "print(string)"
   ]
  },
  {
   "cell_type": "markdown",
   "id": "40d09309",
   "metadata": {},
   "source": [
    "3. Parse the date from today_string."
   ]
  },
  {
   "cell_type": "code",
   "execution_count": 3,
   "id": "f5207bba",
   "metadata": {},
   "outputs": [
    {
     "name": "stdout",
     "output_type": "stream",
     "text": [
      "2023-01-12 00:00:00\n"
     ]
    }
   ],
   "source": [
    "import datetime\n",
    "date=datetime.datetime.strptime(string,\"%Y-%m-%d\")\n",
    "print(date)"
   ]
  },
  {
   "cell_type": "code",
   "execution_count": 4,
   "id": "7b2bdcf4",
   "metadata": {},
   "outputs": [
    {
     "data": {
      "text/plain": [
       "datetime.datetime"
      ]
     },
     "execution_count": 4,
     "metadata": {},
     "output_type": "execute_result"
    }
   ],
   "source": [
    "type(date)"
   ]
  },
  {
   "cell_type": "markdown",
   "id": "895efee8",
   "metadata": {},
   "source": [
    "4. List the files in your current directory"
   ]
  },
  {
   "cell_type": "code",
   "execution_count": 5,
   "id": "db531dae",
   "metadata": {},
   "outputs": [
    {
     "data": {
      "text/plain": [
       "'C:\\\\Users\\\\meabh'"
      ]
     },
     "execution_count": 5,
     "metadata": {},
     "output_type": "execute_result"
    }
   ],
   "source": [
    "import os\n",
    "os.getcwd()"
   ]
  },
  {
   "cell_type": "code",
   "execution_count": 6,
   "id": "25e43a06",
   "metadata": {},
   "outputs": [
    {
     "data": {
      "text/plain": [
       "['.astropy',\n",
       " '.conda',\n",
       " '.condarc',\n",
       " '.continuum',\n",
       " '.cufflinks',\n",
       " '.git',\n",
       " '.gitconfig',\n",
       " '.ipynb_checkpoints',\n",
       " '.ipython',\n",
       " '.jupyter',\n",
       " '.matplotlib',\n",
       " '.python_history',\n",
       " '.ssh',\n",
       " '3D Objects',\n",
       " 'abhishek.jpg',\n",
       " 'admission_lr_model.pickle',\n",
       " 'Amazon Sales data.ipynb',\n",
       " 'anaconda3',\n",
       " 'AppData',\n",
       " 'Application Data',\n",
       " 'ASSIGNMENT URL.txt',\n",
       " 'Assignments links.txt',\n",
       " 'beer dataset.ipynb',\n",
       " 'books.csv',\n",
       " 'books.db',\n",
       " 'carbon_nanotubes.ipynb',\n",
       " 'Cars data EDA.ipynb',\n",
       " 'Clustering Algorithm, K-mean.ipynb',\n",
       " 'Contacts',\n",
       " 'Cookies',\n",
       " 'Cover Letter.txt',\n",
       " 'Decision Tree Implementation.ipynb',\n",
       " 'Decision Tree Practice.ipynb',\n",
       " 'Decision Tree.ipynb',\n",
       " 'Desktop',\n",
       " 'Documents',\n",
       " 'Downloads',\n",
       " 'dt_en_meta.dot',\n",
       " 'dt_model1.png',\n",
       " 'EDA technical interview questions.ipynb',\n",
       " 'Email prototype 1.txt',\n",
       " 'Employee.ipynb',\n",
       " 'encapsulation.ipynb',\n",
       " 'exception handling.ipynb',\n",
       " 'Favorites',\n",
       " 'FitBit data.ipynb',\n",
       " 'for loop, range function.ipynb',\n",
       " 'Github links.txt',\n",
       " 'gmail.png',\n",
       " 'html_data(i).csv',\n",
       " 'html_data2{i}.csv',\n",
       " 'html_data[i].csv',\n",
       " 'html_data{i}.csv',\n",
       " 'iCloudDrive',\n",
       " 'ifelse .ipynb',\n",
       " 'Important links.txt',\n",
       " 'IntelGraphicsProfiles',\n",
       " 'json_dump.csv',\n",
       " 'KNN, SVC, Stacking Implementation.ipynb',\n",
       " 'knn.pkl',\n",
       " 'knn1.pkl',\n",
       " 'Linear Regression.ipynb',\n",
       " 'linkedin file.txt',\n",
       " 'Links',\n",
       " 'list comprehension.ipynb',\n",
       " 'Local Settings',\n",
       " 'Logging.ipynb',\n",
       " 'Logical Regression.ipynb',\n",
       " 'Logistic Regression assignment.ipynb',\n",
       " 'Meri tareef.txt',\n",
       " 'MicrosoftEdgeBackups',\n",
       " 'mongodb atlas full driver code.txt',\n",
       " 'mongoDB.ipynb',\n",
       " 'MOVIE CORELATION PROJECT.ipynb',\n",
       " 'Music',\n",
       " 'my data.csv',\n",
       " 'My Documents',\n",
       " 'Mysql.ipynb',\n",
       " 'my_pickle',\n",
       " 'Naive Bayes algorithm.ipynb',\n",
       " 'Neenopal.ipynb',\n",
       " 'Netflix data project.ipynb',\n",
       " 'Netflix Dataset Kaggle.ipynb',\n",
       " 'Netflix Dataset Project.ipynb',\n",
       " 'NetHood',\n",
       " 'NTUSER.DAT',\n",
       " 'ntuser.dat.LOG1',\n",
       " 'ntuser.dat.LOG2',\n",
       " 'NTUSER.DAT{a214a91f-8da4-11ec-bb2b-eab937acd2de}.TM.blf',\n",
       " 'NTUSER.DAT{a214a91f-8da4-11ec-bb2b-eab937acd2de}.TMContainer00000000000000000001.regtrans-ms',\n",
       " 'NTUSER.DAT{a214a91f-8da4-11ec-bb2b-eab937acd2de}.TMContainer00000000000000000002.regtrans-ms',\n",
       " 'ntuser.ini',\n",
       " 'NUMPY.ipynb',\n",
       " 'OneDrive',\n",
       " 'OneDrive - Delhi University',\n",
       " 'PANDAS DATA VISUALISATION.ipynb',\n",
       " 'PANDAS FILE MANIPULATION.ipynb',\n",
       " 'pandas.ipynb',\n",
       " 'pandas2.ipynb',\n",
       " 'PB - Assignment 19.ipynb',\n",
       " 'PB- Assignment 11.ipynb',\n",
       " 'PB- Assignment 20.ipynb',\n",
       " 'PB- Assignment 21.ipynb',\n",
       " 'PCA Implementation.ipynb',\n",
       " 'Pictures',\n",
       " 'players_data.csv',\n",
       " 'players_data2.csv',\n",
       " 'Postman',\n",
       " 'PP assignment 01.ipynb',\n",
       " 'PP- Assignment 03.ipynb',\n",
       " 'PP- Assignment 04.ipynb',\n",
       " 'PP- Assignment 05.ipynb',\n",
       " 'PP- Assignment 06.ipynb',\n",
       " 'PP- Assignment 10.ipynb',\n",
       " 'PP- Assignment 2.ipynb',\n",
       " 'PP- Assignment 22.ipynb',\n",
       " 'PP-Assignment 21.ipynb',\n",
       " 'Practice 01.ipynb',\n",
       " 'predictive_maintainance.html',\n",
       " 'PrintHood',\n",
       " 'Procfile.txt',\n",
       " 'PROJECT 1.ipynb',\n",
       " 'PycharmProjects',\n",
       " 'Python Programming Assignment-01.ipynb',\n",
       " 'QQ plot.ipynb',\n",
       " 'Recent',\n",
       " 'result.csv',\n",
       " 'result1.csv',\n",
       " 'result2.csv',\n",
       " 'result3.csv',\n",
       " 'Saved Games',\n",
       " 'SaveToFile.ipynb',\n",
       " 'saveTofile.log',\n",
       " 'SEABORN VISUALISATION..ipynb',\n",
       " 'seaborn-data',\n",
       " 'Searches',\n",
       " 'SendTo',\n",
       " 'sociology.pdf.pdf',\n",
       " 'Start Menu',\n",
       " 'strings, list, tuples.ipynb',\n",
       " 'Templates',\n",
       " 'test',\n",
       " 'test.csv',\n",
       " 'test.h5',\n",
       " 'test.py.txt',\n",
       " 'test.txt',\n",
       " 'test1.py',\n",
       " 'test25.log',\n",
       " 'test5.py',\n",
       " 'test6.py',\n",
       " 'Text Analytics.ipynb',\n",
       " 'today.txt',\n",
       " 'Tracing',\n",
       " 'UNTITLED1.ipynb',\n",
       " 'Untitled3.ipynb',\n",
       " 'Untitled5.ipynb',\n",
       " 'Untitled6.ipynb',\n",
       " 'Videos',\n",
       " 'VISUALISATION PLOTLY ETC...ipynb',\n",
       " 'Weather_dataset.ipynb',\n",
       " 'XGboost.ipynb',\n",
       " 'xyz.txt',\n",
       " 'Zomato dataset.ipynb',\n",
       " '_netrc',\n",
       " '__pycache__']"
      ]
     },
     "execution_count": 6,
     "metadata": {},
     "output_type": "execute_result"
    }
   ],
   "source": [
    "os.listdir()"
   ]
  },
  {
   "cell_type": "markdown",
   "id": "82bedcb7",
   "metadata": {},
   "source": [
    "5. Create a list of all of the files in your parent directory (minimum five files should be available)."
   ]
  },
  {
   "cell_type": "code",
   "execution_count": 7,
   "id": "9ce27d68",
   "metadata": {},
   "outputs": [
    {
     "data": {
      "text/plain": [
       "['.astropy', '.conda', '.condarc', '.continuum', '.cufflinks']"
      ]
     },
     "execution_count": 7,
     "metadata": {},
     "output_type": "execute_result"
    }
   ],
   "source": [
    "file = os.listdir()[:5]\n",
    "file"
   ]
  },
  {
   "cell_type": "markdown",
   "id": "9b89520a",
   "metadata": {},
   "source": [
    "6. Use multiprocessing to create three separate processes. Make each one wait a random number of\n",
    "seconds between one and five, print the current time, and then exit."
   ]
  },
  {
   "cell_type": "code",
   "execution_count": 8,
   "id": "d80f1a77",
   "metadata": {},
   "outputs": [
    {
     "name": "stdout",
     "output_type": "stream",
     "text": [
      ".astropy\n",
      ".conda\n",
      ".condarc\n",
      ".continuum\n",
      ".cufflinks\n"
     ]
    }
   ],
   "source": [
    "import time\n",
    "from time import sleep\n",
    "\n",
    "for i in file:\n",
    "    print(i)\n",
    "    sleep(4)"
   ]
  },
  {
   "cell_type": "markdown",
   "id": "06e05390",
   "metadata": {},
   "source": [
    "7. Create a date object of your day of birth."
   ]
  },
  {
   "cell_type": "code",
   "execution_count": 13,
   "id": "56995e0c",
   "metadata": {},
   "outputs": [
    {
     "name": "stdout",
     "output_type": "stream",
     "text": [
      "1998-07-27\n"
     ]
    }
   ],
   "source": [
    "DOB = datetime.date(1998,7,27)\n",
    "print(DOB)"
   ]
  },
  {
   "cell_type": "markdown",
   "id": "f0250123",
   "metadata": {},
   "source": [
    "8. What day of the week was your day of birth?"
   ]
  },
  {
   "cell_type": "code",
   "execution_count": 14,
   "id": "1202c317",
   "metadata": {},
   "outputs": [
    {
     "data": {
      "text/plain": [
       "0"
      ]
     },
     "execution_count": 14,
     "metadata": {},
     "output_type": "execute_result"
    }
   ],
   "source": [
    "DOB.weekday()"
   ]
  },
  {
   "cell_type": "markdown",
   "id": "1280a9f8",
   "metadata": {},
   "source": [
    "9. When will you be (or when were you) 10,000 days old?"
   ]
  },
  {
   "cell_type": "code",
   "execution_count": 12,
   "id": "827a23bc",
   "metadata": {},
   "outputs": [
    {
     "name": "stdout",
     "output_type": "stream",
     "text": [
      "('This many year Old I am after 10k days :-', 27.397260273972602)\n"
     ]
    }
   ],
   "source": [
    "DOB = datetime.date(1998,7,27)\n",
    "days = DOB.day\n",
    "\n",
    "if days!=0:\n",
    "    days=0\n",
    "    age=('This many year Old I am after 10k days :-',(days+10000)/365)\n",
    "    print(age)\n",
    "else:\n",
    "    print('This many year Old I am :-',(days+10000)/365)"
   ]
  }
 ],
 "metadata": {
  "kernelspec": {
   "display_name": "Python 3 (ipykernel)",
   "language": "python",
   "name": "python3"
  },
  "language_info": {
   "codemirror_mode": {
    "name": "ipython",
    "version": 3
   },
   "file_extension": ".py",
   "mimetype": "text/x-python",
   "name": "python",
   "nbconvert_exporter": "python",
   "pygments_lexer": "ipython3",
   "version": "3.9.12"
  }
 },
 "nbformat": 4,
 "nbformat_minor": 5
}
