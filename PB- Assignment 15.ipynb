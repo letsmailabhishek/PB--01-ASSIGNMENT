{
 "cells": [
  {
   "cell_type": "markdown",
   "id": "d84df1f3",
   "metadata": {},
   "source": [
    "1.How many seconds are in an hour? Use the interactive interpreter as a calculator and multiply the\n",
    "number of seconds in a minute (60) by the number of minutes in an hour (also 60).\n",
    "sol. 60"
   ]
  },
  {
   "cell_type": "code",
   "execution_count": 4,
   "id": "ba8ab3dc",
   "metadata": {},
   "outputs": [
    {
     "name": "stdout",
     "output_type": "stream",
     "text": [
      "Do you Want to know, how many seconds are there in minutes,Enter Yes or No ?yes\n",
      "Secs in minutes :-  60\n",
      "Do you Want to know, how many seconds are there in hours,Enter Yes or No ?yes\n",
      "Seconds In Hour:- 3600\n"
     ]
    }
   ],
   "source": [
    "user = input('Do you Want to know, how many seconds are there in minutes,Enter Yes or No ?')\n",
    "if user == 'yes':\n",
    "    sec=60\n",
    "    print('Secs in minutes :- ',sec)\n",
    "user1 = input('Do you Want to know, how many seconds are there in hours,Enter Yes or No ?')\n",
    "if user1 == 'yes':\n",
    "    hr_sec = sec*60\n",
    "    print('Seconds In Hour:-',hr_sec)\n",
    "else:\n",
    "    print('Goog Bye !!')"
   ]
  },
  {
   "cell_type": "markdown",
   "id": "2529acdb",
   "metadata": {},
   "source": [
    "2. Assign the result from the previous task (seconds in an hour) to a variable called\n",
    "seconds_per_hour."
   ]
  },
  {
   "cell_type": "code",
   "execution_count": 5,
   "id": "4e2740bd",
   "metadata": {},
   "outputs": [
    {
     "data": {
      "text/plain": [
       "3600"
      ]
     },
     "execution_count": 5,
     "metadata": {},
     "output_type": "execute_result"
    }
   ],
   "source": [
    "seconds_per_hour = hr_sec\n",
    "seconds_per_hour"
   ]
  },
  {
   "cell_type": "markdown",
   "id": "d6860993",
   "metadata": {},
   "source": [
    "3. How many seconds do you think there are in a day? Make use of the variables seconds per hour\n",
    "and minutes per hour."
   ]
  },
  {
   "cell_type": "code",
   "execution_count": 6,
   "id": "89ebd650",
   "metadata": {},
   "outputs": [
    {
     "name": "stdout",
     "output_type": "stream",
     "text": [
      "How many seconds do you think there in a day If you want to know then enter Yes Or No?yes\n",
      "Number Of Seconds in Day :- 86400\n"
     ]
    }
   ],
   "source": [
    "user2 = input('How many seconds do you think there in a day If you want to know then enter Yes Or No?')\n",
    "\n",
    "if user2 == 'yes':\n",
    "    Day_sec= 24*seconds_per_hour\n",
    "    print('Number Of Seconds in Day :-',Day_sec)"
   ]
  },
  {
   "cell_type": "markdown",
   "id": "154fb73e",
   "metadata": {},
   "source": [
    "4. Calculate seconds per day again, but this time save the result in a variable called seconds_per_day"
   ]
  },
  {
   "cell_type": "code",
   "execution_count": 7,
   "id": "f2714a08",
   "metadata": {},
   "outputs": [
    {
     "name": "stdout",
     "output_type": "stream",
     "text": [
      "How many seconds do you think there in a day and do you want then enter Yes Or No?yes\n",
      "Number Of Seconds in Day :- 86400\n"
     ]
    }
   ],
   "source": [
    "user2 = input('How many seconds do you think there in a day and do you want then enter Yes Or No?')\n",
    "\n",
    "if user2 == 'yes':\n",
    "    Day_sec= 24*seconds_per_hour\n",
    "    print('Number Of Seconds in Day :-',Day_sec)\n",
    "    seconds_per_day = Dsec"
   ]
  },
  {
   "cell_type": "markdown",
   "id": "7511f593",
   "metadata": {},
   "source": [
    "5. Divide seconds_per_day by seconds_per_hour. Use floating-point (/) division."
   ]
  },
  {
   "cell_type": "code",
   "execution_count": 8,
   "id": "19ab9bd3",
   "metadata": {},
   "outputs": [
    {
     "data": {
      "text/plain": [
       "24.0"
      ]
     },
     "execution_count": 8,
     "metadata": {},
     "output_type": "execute_result"
    }
   ],
   "source": [
    "seconds_per_day/seconds_per_hour"
   ]
  },
  {
   "cell_type": "markdown",
   "id": "8b10a926",
   "metadata": {},
   "source": [
    "6. Divide seconds_per_day by seconds_per_hour, using integer (//) division. Did this number agree\n",
    "with the floating-point value from the previous question, aside from the final .0?"
   ]
  },
  {
   "cell_type": "code",
   "execution_count": 9,
   "id": "02e6ce2a",
   "metadata": {},
   "outputs": [
    {
     "data": {
      "text/plain": [
       "24"
      ]
     },
     "execution_count": 9,
     "metadata": {},
     "output_type": "execute_result"
    }
   ],
   "source": [
    "seconds_per_day//seconds_per_hour"
   ]
  },
  {
   "cell_type": "markdown",
   "id": "47eee409",
   "metadata": {},
   "source": [
    "yes it agrees"
   ]
  },
  {
   "cell_type": "markdown",
   "id": "b1cf45da",
   "metadata": {},
   "source": [
    "7. Write a generator, genPrimes, that returns the sequence of prime numbers on successive calls to\n",
    "its next() method: 2, 3, 5, 7, 11, ..."
   ]
  },
  {
   "cell_type": "code",
   "execution_count": 10,
   "id": "f4fdf594",
   "metadata": {},
   "outputs": [],
   "source": [
    "def isPrime(num):\n",
    "    for i in range(2,num):\n",
    "        if (num%i)==0:\n",
    "            return False\n",
    "    else:\n",
    "        return True"
   ]
  },
  {
   "cell_type": "code",
   "execution_count": 11,
   "id": "719fd2b0",
   "metadata": {},
   "outputs": [],
   "source": [
    "def primeGenerator(n):\n",
    "    lst = []\n",
    "    num=2\n",
    "    while n>1:\n",
    "        if isPrime(num):\n",
    "            yield num\n",
    "            n-=1       #once we acheive n value we have to decrease it\n",
    "        num+=1         #in order to avoid to check wheather\n",
    "    return lst     "
   ]
  },
  {
   "cell_type": "code",
   "execution_count": 12,
   "id": "495cd904",
   "metadata": {},
   "outputs": [
    {
     "data": {
      "text/plain": [
       "2"
      ]
     },
     "execution_count": 12,
     "metadata": {},
     "output_type": "execute_result"
    }
   ],
   "source": [
    "prime = iter(primeGenerator(10))\n",
    "next(prime)"
   ]
  },
  {
   "cell_type": "code",
   "execution_count": 13,
   "id": "f0634834",
   "metadata": {},
   "outputs": [
    {
     "data": {
      "text/plain": [
       "3"
      ]
     },
     "execution_count": 13,
     "metadata": {},
     "output_type": "execute_result"
    }
   ],
   "source": [
    "next(prime)"
   ]
  },
  {
   "cell_type": "code",
   "execution_count": 14,
   "id": "4002bf78",
   "metadata": {},
   "outputs": [
    {
     "data": {
      "text/plain": [
       "5"
      ]
     },
     "execution_count": 14,
     "metadata": {},
     "output_type": "execute_result"
    }
   ],
   "source": [
    "next(prime)"
   ]
  }
 ],
 "metadata": {
  "kernelspec": {
   "display_name": "Python 3 (ipykernel)",
   "language": "python",
   "name": "python3"
  },
  "language_info": {
   "codemirror_mode": {
    "name": "ipython",
    "version": 3
   },
   "file_extension": ".py",
   "mimetype": "text/x-python",
   "name": "python",
   "nbconvert_exporter": "python",
   "pygments_lexer": "ipython3",
   "version": "3.9.12"
  }
 },
 "nbformat": 4,
 "nbformat_minor": 5
}
