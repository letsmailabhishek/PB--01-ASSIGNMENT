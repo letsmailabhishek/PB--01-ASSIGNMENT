{
 "cells": [
  {
   "cell_type": "markdown",
   "id": "1e6611a7",
   "metadata": {},
   "source": [
    "1. In what modes should the PdfFileReader() and PdfFileWriter() File objects will be opened?"
   ]
  },
  {
   "cell_type": "code",
   "execution_count": null,
   "id": "2a3395ab",
   "metadata": {},
   "outputs": [],
   "source": [
    "#ans\n",
    "#for pdfFileWriter \n",
    "open(\"filename\", 'wb')\n",
    "\n",
    "#for pdfFileReader\n",
    "open(\"filename\", 'rb')"
   ]
  },
  {
   "cell_type": "code",
   "execution_count": 29,
   "id": "96995a26",
   "metadata": {},
   "outputs": [
    {
     "data": {
      "text/plain": [
       "'C:\\\\Users\\\\meabh\\\\downloads'"
      ]
     },
     "execution_count": 29,
     "metadata": {},
     "output_type": "execute_result"
    }
   ],
   "source": [
    "import os\n",
    "os.getcwd()\n",
    "os.chdir(\"C:\\\\Users\\\\meabh\\\\downloads\")\n",
    "os.getcwd()"
   ]
  },
  {
   "cell_type": "markdown",
   "id": "7edb447f",
   "metadata": {},
   "source": [
    "2. From a PdfFileReader object, how do you get a Page object for page 5?"
   ]
  },
  {
   "cell_type": "code",
   "execution_count": 37,
   "id": "0fe05241",
   "metadata": {},
   "outputs": [],
   "source": [
    "#anS\n",
    "\n",
    "#import PyPDF2 as py\n",
    "#file = py.PdfReader(\"filename\", 'rb')\n",
    "\n",
    "\n",
    "file = file.pages()\n",
    "page5 = getPage(5)\n",
    "page5.extractText()"
   ]
  },
  {
   "cell_type": "markdown",
   "id": "67c8a647",
   "metadata": {},
   "source": [
    "3. What PdfFileReader variable stores the number of pages in the PDF document?"
   ]
  },
  {
   "cell_type": "code",
   "execution_count": null,
   "id": "96838b80",
   "metadata": {},
   "outputs": [],
   "source": [
    "#ans\n",
    "file.getNumPages()"
   ]
  },
  {
   "cell_type": "markdown",
   "id": "b5c79a8b",
   "metadata": {},
   "source": [
    "4. If a PdfFileReader object’s PDF is encrypted with the password swordfish, what must you do\n",
    "before you can obtain Page objects from it?"
   ]
  },
  {
   "cell_type": "code",
   "execution_count": null,
   "id": "683ab13a",
   "metadata": {},
   "outputs": [],
   "source": [
    "#ans\n",
    "file=py.PdfFileReader('filename','rb',)\n",
    "file.getIsEncrypted()\n"
   ]
  },
  {
   "cell_type": "markdown",
   "id": "5810e67e",
   "metadata": {},
   "source": [
    "5. What methods do you use to rotate a page?"
   ]
  },
  {
   "cell_type": "code",
   "execution_count": null,
   "id": "777e674d",
   "metadata": {},
   "outputs": [],
   "source": [
    "#ans\n",
    "file=py.PdfFileReader('filename','rb')\n",
    "text=file.getPage(5)\n",
    "text.rotateClockwise(90)\n",
    "text.rotateCounterClockwise(90)\n",
    "text.extractText()"
   ]
  },
  {
   "cell_type": "markdown",
   "id": "23c3360b",
   "metadata": {},
   "source": [
    "6. What is the difference between a Run object and a Paragraph object?"
   ]
  },
  {
   "cell_type": "markdown",
   "id": "c137c96e",
   "metadata": {},
   "source": [
    "#ans\n",
    " Run Objects ---> In our docs file we have lot of structure and any document object contains list of paragraphs objects.In every paragraphs we have some run objects like some words in bold,intalic and some in underline and tab as well. So these objects count as Run Objects.\n",
    " \n",
    " Paragraph Objects-->  At the highest level, a Document object represents the entire document. The Document object contains a list of Paragraph objects for the paragraphs in the document. Each of these Paragraph objects contains a list of one or more Run objects.\n",
    "\n",
    "Inside the paragraph object we have space,text and allignment are count.\n",
    "\n",
    "If u see the above complete is the paragraph object and each text has its own properties like text and its italic,underline and normal text are called as Run-Object."
   ]
  },
  {
   "cell_type": "markdown",
   "id": "bd4dca4a",
   "metadata": {},
   "source": [
    "7. How do you obtain a list of Paragraph objects for a Document object that’s stored in a variable\n",
    "named doc?"
   ]
  },
  {
   "cell_type": "code",
   "execution_count": null,
   "id": "cb7fe356",
   "metadata": {},
   "outputs": [],
   "source": [
    "#ans\n",
    "import docx\n",
    "doc = docx.Document('filename.docx')\n",
    "len(doc.paragraphs)\n",
    "doc.paragraphs[0].text"
   ]
  },
  {
   "cell_type": "markdown",
   "id": "2ccc1ef4",
   "metadata": {},
   "source": [
    "8. What type of object has bold, underline, italic, strike, and outline variables?"
   ]
  },
  {
   "cell_type": "markdown",
   "id": "964acb08",
   "metadata": {},
   "source": [
    "ans - These are the Run type objects."
   ]
  },
  {
   "cell_type": "markdown",
   "id": "453d0f8b",
   "metadata": {},
   "source": [
    "9. What is the difference between False, True, and None for the bold variable?"
   ]
  },
  {
   "cell_type": "markdown",
   "id": "6aa43262",
   "metadata": {},
   "source": [
    "1-Many font properties are tri-state,\n",
    "2-Meaning they can take the values True, False, and None.\n",
    "3-True means the property is on\n",
    "4-False means it is off.\n",
    "5-Conceptually, the None value means inherit."
   ]
  },
  {
   "cell_type": "markdown",
   "id": "f0c79550",
   "metadata": {},
   "source": [
    "10. How do you create a Document object for a new Word document?"
   ]
  },
  {
   "cell_type": "code",
   "execution_count": 40,
   "id": "d0adc92b",
   "metadata": {},
   "outputs": [],
   "source": [
    "import docx\n",
    "doc = docx.Document() \n",
    "doc.add_heading('Cornonavirus', 0)\n",
    "doc.add_paragraph(\"Coronavirus disease (COVID-19) is an infectious disease caused by a newly discovered coronavirus. Most people who fall sick with COVID-19 will experience mild to moderate symptoms and recover without special treatment.\") \n",
    "doc.save('New.docx')"
   ]
  },
  {
   "cell_type": "markdown",
   "id": "7b9467f4",
   "metadata": {},
   "source": [
    "11. How do you add a paragraph with the text &#39;Hello, there!&#39; to a Document object stored in a\n",
    "variable named doc?"
   ]
  },
  {
   "cell_type": "code",
   "execution_count": null,
   "id": "2b6a8854",
   "metadata": {},
   "outputs": [],
   "source": [
    "import docx\n",
    "doc = docx.Document('New.docx')\n",
    "doc.add_paragraph('Hello,there!')\n",
    "doc.save('NewOne.docx')"
   ]
  },
  {
   "cell_type": "markdown",
   "id": "4b446aa4",
   "metadata": {},
   "source": [
    "12. What integers represent the levels of headings available in Word documents?"
   ]
  },
  {
   "cell_type": "markdown",
   "id": "de7e472b",
   "metadata": {},
   "source": [
    "1-When the level is set to 0, the string is printed as the title of the document.\n",
    "2-For all other values it prints a heading. The size of heading decreases as the level increases. If no level is set, by default its value is always 1.\n",
    "3-ValueError if any value other than from this range is given as input."
   ]
  }
 ],
 "metadata": {
  "kernelspec": {
   "display_name": "Python 3 (ipykernel)",
   "language": "python",
   "name": "python3"
  },
  "language_info": {
   "codemirror_mode": {
    "name": "ipython",
    "version": 3
   },
   "file_extension": ".py",
   "mimetype": "text/x-python",
   "name": "python",
   "nbconvert_exporter": "python",
   "pygments_lexer": "ipython3",
   "version": "3.9.12"
  }
 },
 "nbformat": 4,
 "nbformat_minor": 5
}
