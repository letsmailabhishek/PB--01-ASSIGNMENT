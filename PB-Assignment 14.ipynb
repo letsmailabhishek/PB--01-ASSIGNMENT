{
 "cells": [
  {
   "cell_type": "markdown",
   "id": "5077f36b",
   "metadata": {},
   "source": [
    "1. What does RGBA stand for?"
   ]
  },
  {
   "cell_type": "markdown",
   "id": "e0941036",
   "metadata": {},
   "source": [
    "RGBA :- It stands for RED,GREEN,BLUE and Alpha Color."
   ]
  },
  {
   "cell_type": "markdown",
   "id": "477f17db",
   "metadata": {},
   "source": [
    "2. From the Pillow module, how do you get the RGBA value of any images?"
   ]
  },
  {
   "cell_type": "code",
   "execution_count": 12,
   "id": "5c025dce",
   "metadata": {},
   "outputs": [
    {
     "name": "stdout",
     "output_type": "stream",
     "text": [
      "(55, 72, 116, 255)\n"
     ]
    }
   ],
   "source": [
    "from PIL import Image\n",
    "img = Image.open('image.png')\n",
    "rgba = img.convert('RGBA')\n",
    "color =rgba.getpixel((200,300))\n",
    "print(color)  #these are values of RGBA at the x = 200 and y = 300 cordinate.\n"
   ]
  },
  {
   "cell_type": "markdown",
   "id": "aecd2656",
   "metadata": {},
   "source": [
    "3. What is a box tuple, and how does it work?"
   ]
  },
  {
   "cell_type": "markdown",
   "id": "1569991e",
   "metadata": {},
   "source": [
    "1-Inside the PIL package we have attribute called as box it work whenever we are going to crop image.\n",
    "2-A4-tuple defining the left, upper, right, and lower pixel coordinate.\n",
    "3-and returns the Image (Returns a rectangular region as (left, upper, right, lower)-tuple)."
   ]
  },
  {
   "cell_type": "code",
   "execution_count": 13,
   "id": "a68f1d8a",
   "metadata": {},
   "outputs": [],
   "source": [
    "from PIL import Image\n",
    "img = Image.open('image.png')\n",
    "test_img = img.crop(box=(2,0.5,120,40))\n",
    "test_img.show()"
   ]
  },
  {
   "cell_type": "markdown",
   "id": "616acb3e",
   "metadata": {},
   "source": [
    "4.Use your image and load in notebook then, How can you find out the width and height of an\n",
    "Image object?"
   ]
  },
  {
   "cell_type": "code",
   "execution_count": 11,
   "id": "652a3083",
   "metadata": {},
   "outputs": [
    {
     "name": "stdout",
     "output_type": "stream",
     "text": [
      "Width :- 2332\n",
      "Height:- 1676\n"
     ]
    }
   ],
   "source": [
    "from PIL import Image\n",
    "img = Image.open('image.png')\n",
    "width,height = img.size\n",
    "print('Width :-',width)\n",
    "print('Height:-',height)"
   ]
  },
  {
   "cell_type": "markdown",
   "id": "db6ed726",
   "metadata": {},
   "source": [
    "5. What method would you call to get Image object for a 100×100 image, excluding the lower-left\n",
    "quarter of it?"
   ]
  },
  {
   "cell_type": "code",
   "execution_count": 14,
   "id": "0c784117",
   "metadata": {},
   "outputs": [
    {
     "name": "stdout",
     "output_type": "stream",
     "text": [
      "width :- 100\n",
      "height :- 100\n"
     ]
    }
   ],
   "source": [
    "image = Image.open('image.png')\n",
    "new_image = image.resize((100, 100))\n",
    "new_image.save('image_400.png')\n",
    "width,height=new_image.size\n",
    "print('width :-',width)\n",
    "print('height :-',height)\n"
   ]
  },
  {
   "cell_type": "markdown",
   "id": "47885011",
   "metadata": {},
   "source": [
    "6. After making changes to an Image object, how could you save it as an image file?"
   ]
  },
  {
   "cell_type": "code",
   "execution_count": 15,
   "id": "8641fe8f",
   "metadata": {},
   "outputs": [],
   "source": [
    "image = Image.open('image.png')\n",
    "new_image = image.resize((100, 100))\n",
    "new_image.save('image_400.png')"
   ]
  },
  {
   "cell_type": "markdown",
   "id": "6c2ad987",
   "metadata": {},
   "source": [
    "7. What module contains Pillow’s shape-drawing code?"
   ]
  },
  {
   "cell_type": "code",
   "execution_count": 16,
   "id": "c7bd4033",
   "metadata": {},
   "outputs": [
    {
     "data": {
      "text/plain": [
       "<PIL.ImageDraw.ImageDraw at 0x234133b2c70>"
      ]
     },
     "execution_count": 16,
     "metadata": {},
     "output_type": "execute_result"
    }
   ],
   "source": [
    "from PIL import Image,ImageDraw\n",
    "im = Image.new('RGB', (500, 300), (128, 128, 128))\n",
    "draw = ImageDraw.Draw(im)\n",
    "draw"
   ]
  },
  {
   "cell_type": "markdown",
   "id": "59796c75",
   "metadata": {},
   "source": [
    "8. Image objects do not have drawing methods. What kind of object does? How do you get this kind\n",
    "of object?"
   ]
  },
  {
   "cell_type": "code",
   "execution_count": 17,
   "id": "9d829762",
   "metadata": {},
   "outputs": [
    {
     "data": {
      "text/plain": [
       "<PIL.ImageDraw.ImageDraw at 0x23410c46f40>"
      ]
     },
     "execution_count": 17,
     "metadata": {},
     "output_type": "execute_result"
    }
   ],
   "source": [
    "from PIL import Image,ImageDraw\n",
    "im = Image.new('RGB', (500, 300), (128, 128, 128))\n",
    "draw = ImageDraw.Draw(im)\n",
    "draw"
   ]
  },
  {
   "cell_type": "code",
   "execution_count": 18,
   "id": "4baebbc6",
   "metadata": {},
   "outputs": [],
   "source": [
    "draw.ellipse((100, 100, 150, 200), fill=(255, 0, 0), outline=(0, 0, 0))\n",
    "draw.rectangle((200, 100, 300, 200), fill=(0, 192, 192), outline=(255, 255, 255))\n",
    "draw.line((350, 200, 450, 100), fill=(255, 255, 0), width=10)\n",
    "im.show()"
   ]
  },
  {
   "cell_type": "code",
   "execution_count": 19,
   "id": "dc0a7591",
   "metadata": {},
   "outputs": [],
   "source": [
    "im = Image.open('image.png')\n",
    "draw = ImageDraw.Draw(im)\n",
    "\n",
    "draw.pieslice((15, 50, 140, 175), start=30, end=330, fill=(255, 255, 0))\n",
    "im.show()"
   ]
  }
 ],
 "metadata": {
  "kernelspec": {
   "display_name": "Python 3 (ipykernel)",
   "language": "python",
   "name": "python3"
  },
  "language_info": {
   "codemirror_mode": {
    "name": "ipython",
    "version": 3
   },
   "file_extension": ".py",
   "mimetype": "text/x-python",
   "name": "python",
   "nbconvert_exporter": "python",
   "pygments_lexer": "ipython3",
   "version": "3.9.12"
  }
 },
 "nbformat": 4,
 "nbformat_minor": 5
}
