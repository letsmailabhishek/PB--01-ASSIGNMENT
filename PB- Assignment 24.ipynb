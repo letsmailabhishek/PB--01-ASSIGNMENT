{
 "cells": [
  {
   "cell_type": "markdown",
   "id": "3556bdc9",
   "metadata": {},
   "source": [
    "1. What is the relationship between def statements and lambda expressions ?"
   ]
  },
  {
   "cell_type": "markdown",
   "id": "0df38a12",
   "metadata": {},
   "source": [
    "* By using the def statement we can give the name the function as per our convenience.\n",
    "* By using the lambda statement we can't give the name to the function.\n",
    "* By using lambda we can do the single operation at a time with the help of .\n",
    "* Wherease def we can do the many operation at the time there is no limit operations.\n",
    "* In production based code we have to do the many operation that time def is good option to ahead rather than the lambda."
   ]
  },
  {
   "cell_type": "markdown",
   "id": "5515f286",
   "metadata": {},
   "source": [
    "2. What is the benefit of lambda?"
   ]
  },
  {
   "cell_type": "markdown",
   "id": "e42e7eac",
   "metadata": {},
   "source": [
    "* It is useful whenever we have to do operation which is based on the only operation that time we can use lambda.\n",
    "* It can reduce the space complexity of the code.\n",
    "* It can reduce the time complexity for the operation."
   ]
  },
  {
   "cell_type": "markdown",
   "id": "9a3562e1",
   "metadata": {},
   "source": [
    "3. Compare and contrast map, filter, and reduce."
   ]
  },
  {
   "cell_type": "markdown",
   "id": "c8522975",
   "metadata": {},
   "source": [
    "map:- It is helping to extend the element with some amount that time it can help to do that.\n",
    "\n",
    "filter:- It is used to fiter out the element which are comes under the certain condition.\n",
    "\n",
    "reduce:- It is help to compress the data or element with the operation so that our space can save for future."
   ]
  },
  {
   "cell_type": "markdown",
   "id": "5db8e443",
   "metadata": {},
   "source": [
    "4. What are function annotations, and how are they used?"
   ]
  },
  {
   "cell_type": "markdown",
   "id": "2764edb0",
   "metadata": {},
   "source": [
    "* Function annotations are arbitrary python expressions that are associated with various part of functions.\n",
    "* These expressions are evaluated at compile time and have no life in python’s runtime environment.\n",
    "* Python does not attach any meaning to these annotations.\n",
    "* They take life when interpreted by third party libraries\n",
    "* The benefits from function annotations can only be reaped via third party libraries. The type of benefits depends upon the type of the library"
   ]
  },
  {
   "cell_type": "markdown",
   "id": "b30234d5",
   "metadata": {},
   "source": [
    "They use like below way.\n",
    "\n",
    "* Type checking\n",
    "* Let IDEs show what types a function expects and returns\n",
    "* Function overloading / generic functions\n",
    "* Foreign-language bridges\n",
    "* Adaptation\n",
    "* Predicate logic functions\n",
    "* Database query mapping\n",
    "* RPC parameter marshaling"
   ]
  },
  {
   "cell_type": "markdown",
   "id": "344858dc",
   "metadata": {},
   "source": [
    "5. What are recursive functions, and how are they used?"
   ]
  },
  {
   "cell_type": "markdown",
   "id": "236eaafe",
   "metadata": {},
   "source": [
    "* A recursive function can be defined as a routine that calls itself directly or indirectly.\n",
    "* Recursive Function is a function that repeats or uses its own previous term to calculate subsequent terms and thus forms a sequence of terms.\n",
    "* Recursion is made for solving problems that can be broken down into smaller, repetitive problems. It is especially good for working on things that have many possible branches and are too complex for an iterative approach. ... Trees and graphs are another time when recursion is the best and easiest way to do traversal."
   ]
  },
  {
   "cell_type": "markdown",
   "id": "a245ea89",
   "metadata": {},
   "source": [
    "7. Name three or more ways that functions can communicate results to a caller."
   ]
  },
  {
   "cell_type": "markdown",
   "id": "26963083",
   "metadata": {},
   "source": [
    "* print()\n",
    "* return\n",
    "* lambda\n",
    "* continue\n",
    "* break\n",
    "* pass"
   ]
  }
 ],
 "metadata": {
  "kernelspec": {
   "display_name": "Python 3 (ipykernel)",
   "language": "python",
   "name": "python3"
  },
  "language_info": {
   "codemirror_mode": {
    "name": "ipython",
    "version": 3
   },
   "file_extension": ".py",
   "mimetype": "text/x-python",
   "name": "python",
   "nbconvert_exporter": "python",
   "pygments_lexer": "ipython3",
   "version": "3.9.12"
  }
 },
 "nbformat": 4,
 "nbformat_minor": 5
}
