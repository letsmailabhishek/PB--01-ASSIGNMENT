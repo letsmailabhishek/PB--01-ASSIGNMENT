{
 "cells": [
  {
   "cell_type": "markdown",
   "id": "e252cef0",
   "metadata": {},
   "source": [
    "1. What is the result of the code, and explain?\n",
    "\n",
    "&gt;&gt;&gt; X = &#39;iNeuron&#39;\n",
    "&gt;&gt;&gt; def func():\n",
    "print(X)\n",
    "\n",
    "&gt;&gt;&gt; func()"
   ]
  },
  {
   "cell_type": "code",
   "execution_count": 1,
   "id": "e58cffb8",
   "metadata": {},
   "outputs": [
    {
     "name": "stdout",
     "output_type": "stream",
     "text": [
      "iNeuron\n"
     ]
    }
   ],
   "source": [
    "X = 'iNeuron'\n",
    "\n",
    "def func():\n",
    "    print(X)\n",
    "\n",
    "func()"
   ]
  },
  {
   "cell_type": "markdown",
   "id": "ae6a870b",
   "metadata": {},
   "source": [
    "* In this function we have one variable which is above the fuction that is X and it is nothing but the Global variable.\n",
    "and in this function we do not have local variable.\n",
    "* once we call the function that it will is looking for local varible which is not avaliable aand it will look foreward to look for global variable.\n",
    "* hence we have got this output.\n",
    "* This is happening due to law of scope of vraible inside the function.\n",
    "* A variable created in the main body of the Python code is a global variable and belongs to the global scope.\n",
    "* Global variables are available from within any scope, global and local."
   ]
  },
  {
   "cell_type": "markdown",
   "id": "39b87f73",
   "metadata": {},
   "source": [
    "2. What is the result of the code, and explain?\n",
    "\n",
    "&gt;&gt;&gt; X = &#39;iNeuron&#39;\n",
    "&gt;&gt;&gt; def func():\n",
    "X = &#39;NI!&#39;\n",
    "\n",
    "&gt;&gt;&gt; func()\n",
    "&gt;&gt;&gt; print(X)"
   ]
  },
  {
   "cell_type": "code",
   "execution_count": 2,
   "id": "0d38d934",
   "metadata": {},
   "outputs": [
    {
     "name": "stdout",
     "output_type": "stream",
     "text": [
      "iNeuron\n"
     ]
    }
   ],
   "source": [
    "X = 'iNeuron'\n",
    "\n",
    "def func():\n",
    "    X = 'NI!'\n",
    "\n",
    "func()\n",
    "print(X)"
   ]
  },
  {
   "cell_type": "markdown",
   "id": "6c233f8a",
   "metadata": {},
   "source": [
    "* Here we have two variable with the same name that is X.\n",
    "* One which is avaliable iniside the function that is X = 'NI!' and another one which is avaliable outside the function that X = 'iNeuron'and they are belonging to the local and Gloabal variable respectively.\n",
    "* Once we have called the function it should have to first look for the local variable but we did not use the return or print so that we can get the local variable output so that is why it was not return X which is avaliable inside the func() function body.\n",
    "* Whereas we are printing the X which is not avaliable inside the body of the function func().It means the it looking for the local variable but for sure it looking for the such variable which is not inside the function body.It means it will allow to print global variable.\n",
    "* Hence in our output we have got an output that is X = 'iNeuron'"
   ]
  },
  {
   "cell_type": "markdown",
   "id": "0c7c7c8c",
   "metadata": {},
   "source": [
    "3. What does this code print, and why?\n",
    "\n",
    "&gt;&gt;&gt; X = &#39;iNeuron&#39;\n",
    "&gt;&gt;&gt; def func():\n",
    "X = &#39;NI&#39;\n",
    "print(X)\n",
    "\n",
    "&gt;&gt;&gt; func()\n",
    "&gt;&gt;&gt; print(X)"
   ]
  },
  {
   "cell_type": "code",
   "execution_count": 3,
   "id": "8304ccec",
   "metadata": {},
   "outputs": [
    {
     "name": "stdout",
     "output_type": "stream",
     "text": [
      "NI\n",
      "iNeuron\n"
     ]
    }
   ],
   "source": [
    "X = 'iNeuron'\n",
    "\n",
    "def func():\n",
    "    X= 'NI'\n",
    "    print(X)\n",
    "\n",
    "func()\n",
    "print(X)"
   ]
  },
  {
   "cell_type": "markdown",
   "id": "0a679dc1",
   "metadata": {},
   "source": [
    "* It same as we have discussed privious question.\n",
    "* Only difference we have found that,we have use the print command inside the func() function and that means whenver we are going to call the function that is func().The variable inside the function that is X is going return their value.\n",
    "* We know that whenver we are going to print X the outside the function that is func and we will get output as the Global Variable that is our case X ='iNeuron'.\n",
    "* That is why we are getting an output X ='NI' whenever the we are calling function func().\n",
    "* For the print(X) we are getting an output Global Variable that is about X ='iNeuron'."
   ]
  },
  {
   "cell_type": "markdown",
   "id": "787c908a",
   "metadata": {},
   "source": [
    "4. What output does this code produce? Why?\n",
    "\n",
    "&gt;&gt;&gt; X = &#39;iNeuron&#39;\n",
    "&gt;&gt;&gt; def func():\n",
    "global X\n",
    "X = &#39;NI&#39;\n",
    "\n",
    "&gt;&gt;&gt; func()\n",
    "&gt;&gt;&gt; print(X)"
   ]
  },
  {
   "cell_type": "code",
   "execution_count": 4,
   "id": "100fec31",
   "metadata": {},
   "outputs": [
    {
     "name": "stdout",
     "output_type": "stream",
     "text": [
      "NI\n"
     ]
    }
   ],
   "source": [
    "X = 'iNeuron'\n",
    "\n",
    "def func():\n",
    "    global X\n",
    "    X = 'NI'\n",
    "func()\n",
    "print(X)"
   ]
  },
  {
   "cell_type": "markdown",
   "id": "467942f8",
   "metadata": {},
   "source": [
    "* In this problem statement we have use the gloabal keyword for the variable X which avaliable inside the function that is func().\n",
    "* The glabal variable is help to give access the of gloabal variable to local variable so whenever we are going to call function func() and it will look for first the local variable as usually but we have changed our local variable to gloabal variable by using keyword global and it is going to print the value whichever the value we had stored in that particular variable.\n",
    "* Now The global variable which is avaliable at the top of the function func() is not responsive if print that variable outside the body function because for that particular function it has changed by using the gloabal keyword."
   ]
  },
  {
   "cell_type": "markdown",
   "id": "9748e79d",
   "metadata": {},
   "source": [
    "5. What about this code—what’s the output, and why?\n",
    "\n",
    "&gt;&gt;&gt; X = &#39;iNeuron&#39;\n",
    "&gt;&gt;&gt; def func():\n",
    "X = &#39;NI&#39;\n",
    "def nested():\n",
    "print(X)\n",
    "nested()\n",
    "\n",
    "&gt;&gt;&gt; func()\n",
    "&gt;&gt;&gt; X"
   ]
  },
  {
   "cell_type": "code",
   "execution_count": 5,
   "id": "8ea73bfa",
   "metadata": {},
   "outputs": [
    {
     "name": "stdout",
     "output_type": "stream",
     "text": [
      "NI\n"
     ]
    },
    {
     "data": {
      "text/plain": [
       "'iNeuron'"
      ]
     },
     "execution_count": 5,
     "metadata": {},
     "output_type": "execute_result"
    }
   ],
   "source": [
    "X = 'iNeuron'\n",
    "\n",
    "def func():\n",
    "    X ='NI'\n",
    "    def nested():\n",
    "        print(X)\n",
    "    nested()\n",
    "        \n",
    "func()\n",
    "X"
   ]
  },
  {
   "cell_type": "markdown",
   "id": "9b563479",
   "metadata": {},
   "source": [
    "* LEGB (Local -> Enclosing -> Global -> Built-in) is the logic followed by a Python interpreter when it is executing your program.\n",
    "* Let's say you're calling print(x) within nested(), which is a function nested in func(). Then Python will first look if \"x\" was defined locally within nested().\n",
    "* If not, the variable defined in func() will be used.\n",
    "* This is the enclosing function.\n",
    "* If it also wasn't defined there, the Python interpreter will go up another level to the global scope.\n",
    "* Above that, you will only find the built-in scope, which contains special variables reserved for Python itself.\n",
    "* That is why it is looking for the inner function and then print the X variable value that is working global varaible for the nested function.\n",
    "* Then it is looking for the X which is working as Global variable for the func() function.\n",
    "* That whenever we called func function it is returning the output as NI\n",
    "* Whenever we are calling the X that time we are getting the gloabal vraible that is nothing but the iNeuron"
   ]
  },
  {
   "cell_type": "markdown",
   "id": "7719bb7c",
   "metadata": {},
   "source": [
    "6. How about this code: what is its output in Python 3, and explain?\n",
    "\n",
    "&gt;&gt;&gt; def func():\n",
    "X = &#39;NI&#39;\n",
    "def nested():\n",
    "nonlocal X\n",
    "X = &#39;Spam&#39;\n",
    "nested()\n",
    "print(X)\n",
    "\n",
    "&gt;&gt;&gt; func()"
   ]
  },
  {
   "cell_type": "code",
   "execution_count": 6,
   "id": "296195c8",
   "metadata": {},
   "outputs": [
    {
     "name": "stdout",
     "output_type": "stream",
     "text": [
      "Spam\n"
     ]
    }
   ],
   "source": [
    "def func():\n",
    "    X = 'NI'\n",
    "    def nested():\n",
    "        nonlocal X\n",
    "        X = 'Spam'\n",
    "    nested()\n",
    "    print(X)\n",
    "\n",
    "func()    "
   ]
  },
  {
   "cell_type": "markdown",
   "id": "7b1c3afa",
   "metadata": {},
   "source": [
    "* This shows that nonlocal bindings can only be used inside of nested functions.\n",
    "* A nonlocal variable has to be defined in the enclosing function scope.\n",
    "* If the variable is not defined in the enclosing function scope, the variable cannot be defined in the nested scope.\n",
    "* From the above example we are able to get the func() function output as spam.\n",
    "* becasue the nonlocal keyword has made nested function variable X as global variable and it got the acess of X variable of the func() to X variable inside the nested().\n",
    "* Hence whenever we are going to print call the function func() it will start from the nested function and print the X variable that has got the access of gloable by using the nonlocal keyword."
   ]
  }
 ],
 "metadata": {
  "kernelspec": {
   "display_name": "Python 3 (ipykernel)",
   "language": "python",
   "name": "python3"
  },
  "language_info": {
   "codemirror_mode": {
    "name": "ipython",
    "version": 3
   },
   "file_extension": ".py",
   "mimetype": "text/x-python",
   "name": "python",
   "nbconvert_exporter": "python",
   "pygments_lexer": "ipython3",
   "version": "3.9.12"
  }
 },
 "nbformat": 4,
 "nbformat_minor": 5
}
