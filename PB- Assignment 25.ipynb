{
 "cells": [
  {
   "cell_type": "markdown",
   "id": "67336f15",
   "metadata": {},
   "source": [
    "1) . What is the difference between enclosing a list comprehension in square brackets and\n",
    "parentheses?"
   ]
  },
  {
   "cell_type": "code",
   "execution_count": 1,
   "id": "69c66cd2",
   "metadata": {},
   "outputs": [
    {
     "data": {
      "text/plain": [
       "[0, 1, 2, 3, 4, 5, 6, 7, 8, 9]"
      ]
     },
     "execution_count": 1,
     "metadata": {},
     "output_type": "execute_result"
    }
   ],
   "source": [
    "[i for i in range(10)]"
   ]
  },
  {
   "cell_type": "code",
   "execution_count": 2,
   "id": "a457068a",
   "metadata": {},
   "outputs": [
    {
     "data": {
      "text/plain": [
       "<generator object <genexpr> at 0x0000028CA30F4890>"
      ]
     },
     "execution_count": 2,
     "metadata": {},
     "output_type": "execute_result"
    }
   ],
   "source": [
    "(i for i in range(10))"
   ]
  },
  {
   "cell_type": "markdown",
   "id": "880c2128",
   "metadata": {},
   "source": [
    "* Square Brackets enclosing gives the list as output in the list comprehension.\n",
    "* In the parentheses the we are an output as generator in list comprehension."
   ]
  },
  {
   "cell_type": "markdown",
   "id": "a9c55c68",
   "metadata": {},
   "source": [
    "2) What is the relationship between generators and iterators?"
   ]
  },
  {
   "cell_type": "markdown",
   "id": "4adf8162",
   "metadata": {},
   "source": [
    "Generator :-\n",
    "\n",
    "* In the generator we have store some operation which is going to happen when use it inside our for loop.\n",
    "* In the generator we use yield keyoword in order store operation on temporary basis.\n",
    "\n",
    "\n",
    "Iterator :-\n",
    "\n",
    "* It is help to get the itration of object which is iterable.\n",
    "* like string is not the generator but it is iterable."
   ]
  },
  {
   "cell_type": "code",
   "execution_count": 3,
   "id": "676d0294",
   "metadata": {},
   "outputs": [],
   "source": [
    "def sequence(n):\n",
    "    for i in range(n):\n",
    "        yield i"
   ]
  },
  {
   "cell_type": "code",
   "execution_count": 4,
   "id": "0f479768",
   "metadata": {},
   "outputs": [
    {
     "name": "stdout",
     "output_type": "stream",
     "text": [
      "0\n",
      "1\n",
      "2\n",
      "3\n",
      "4\n",
      "5\n",
      "6\n",
      "7\n",
      "8\n",
      "9\n"
     ]
    }
   ],
   "source": [
    "for i in sequence(10):\n",
    "    print(i)  #help to get the get the result in quick manner."
   ]
  },
  {
   "cell_type": "markdown",
   "id": "1d079bf9",
   "metadata": {},
   "source": [
    "This is yeild operation knows where it has to end so it is not throwing an error."
   ]
  },
  {
   "cell_type": "code",
   "execution_count": 18,
   "id": "5524f057",
   "metadata": {},
   "outputs": [
    {
     "data": {
      "text/plain": [
       "0"
      ]
     },
     "execution_count": 18,
     "metadata": {},
     "output_type": "execute_result"
    }
   ],
   "source": [
    "obj = iter(sequence(10))\n",
    "next(obj)"
   ]
  },
  {
   "cell_type": "code",
   "execution_count": 6,
   "id": "13937a74",
   "metadata": {},
   "outputs": [
    {
     "data": {
      "text/plain": [
       "1"
      ]
     },
     "execution_count": 6,
     "metadata": {},
     "output_type": "execute_result"
    }
   ],
   "source": [
    "next(obj)"
   ]
  },
  {
   "cell_type": "code",
   "execution_count": 7,
   "id": "29671e9f",
   "metadata": {},
   "outputs": [
    {
     "data": {
      "text/plain": [
       "2"
      ]
     },
     "execution_count": 7,
     "metadata": {},
     "output_type": "execute_result"
    }
   ],
   "source": [
    "next(obj)"
   ]
  },
  {
   "cell_type": "code",
   "execution_count": 8,
   "id": "ddcbe061",
   "metadata": {},
   "outputs": [
    {
     "data": {
      "text/plain": [
       "3"
      ]
     },
     "execution_count": 8,
     "metadata": {},
     "output_type": "execute_result"
    }
   ],
   "source": [
    "next(obj)"
   ]
  },
  {
   "cell_type": "code",
   "execution_count": 9,
   "id": "7b44fc49",
   "metadata": {},
   "outputs": [
    {
     "data": {
      "text/plain": [
       "4"
      ]
     },
     "execution_count": 9,
     "metadata": {},
     "output_type": "execute_result"
    }
   ],
   "source": [
    "next(obj)"
   ]
  },
  {
   "cell_type": "code",
   "execution_count": 23,
   "id": "88d6f9c1",
   "metadata": {},
   "outputs": [
    {
     "data": {
      "text/plain": [
       "5"
      ]
     },
     "execution_count": 23,
     "metadata": {},
     "output_type": "execute_result"
    }
   ],
   "source": [
    "next(obj)"
   ]
  },
  {
   "cell_type": "code",
   "execution_count": 12,
   "id": "b99b1651",
   "metadata": {},
   "outputs": [
    {
     "data": {
      "text/plain": [
       "6"
      ]
     },
     "execution_count": 12,
     "metadata": {},
     "output_type": "execute_result"
    }
   ],
   "source": [
    "next(obj)"
   ]
  },
  {
   "cell_type": "code",
   "execution_count": 13,
   "id": "686e757d",
   "metadata": {},
   "outputs": [
    {
     "data": {
      "text/plain": [
       "7"
      ]
     },
     "execution_count": 13,
     "metadata": {},
     "output_type": "execute_result"
    }
   ],
   "source": [
    "next(obj)"
   ]
  },
  {
   "cell_type": "code",
   "execution_count": 14,
   "id": "b79d5a33",
   "metadata": {},
   "outputs": [
    {
     "data": {
      "text/plain": [
       "8"
      ]
     },
     "execution_count": 14,
     "metadata": {},
     "output_type": "execute_result"
    }
   ],
   "source": [
    "next(obj)"
   ]
  },
  {
   "cell_type": "code",
   "execution_count": 15,
   "id": "1daf7920",
   "metadata": {},
   "outputs": [
    {
     "data": {
      "text/plain": [
       "9"
      ]
     },
     "execution_count": 15,
     "metadata": {},
     "output_type": "execute_result"
    }
   ],
   "source": [
    "next(obj)"
   ]
  },
  {
   "cell_type": "code",
   "execution_count": 16,
   "id": "22f18b04",
   "metadata": {},
   "outputs": [
    {
     "ename": "StopIteration",
     "evalue": "",
     "output_type": "error",
     "traceback": [
      "\u001b[1;31m---------------------------------------------------------------------------\u001b[0m",
      "\u001b[1;31mStopIteration\u001b[0m                             Traceback (most recent call last)",
      "Input \u001b[1;32mIn [16]\u001b[0m, in \u001b[0;36m<cell line: 1>\u001b[1;34m()\u001b[0m\n\u001b[1;32m----> 1\u001b[0m \u001b[38;5;28;43mnext\u001b[39;49m\u001b[43m(\u001b[49m\u001b[43mobj\u001b[49m\u001b[43m)\u001b[49m\n",
      "\u001b[1;31mStopIteration\u001b[0m: "
     ]
    }
   ],
   "source": [
    "next(obj)"
   ]
  },
  {
   "cell_type": "markdown",
   "id": "be82c7b1",
   "metadata": {},
   "source": [
    "So from that we can access every object which is itrable is going an iterator and generator is used to store the value of iterable object so that our computational and reusability of code will get increase."
   ]
  },
  {
   "cell_type": "markdown",
   "id": "9dd023da",
   "metadata": {},
   "source": [
    "3) What are the signs that a function is a generator function?"
   ]
  },
  {
   "cell_type": "markdown",
   "id": "270830b5",
   "metadata": {},
   "source": [
    "If function is using the for loop over sequencial data and using keyword that is yield instead of return,so in that case we are goinng say that this function is generator function."
   ]
  },
  {
   "cell_type": "markdown",
   "id": "1de8998d",
   "metadata": {},
   "source": [
    "4) What is the purpose of a yield statement?"
   ]
  },
  {
   "cell_type": "markdown",
   "id": "87a8f6d0",
   "metadata": {},
   "source": [
    "It helps to create the address on our local machine in order to store operation which is going to be happen in future."
   ]
  },
  {
   "cell_type": "markdown",
   "id": "3860b69e",
   "metadata": {},
   "source": [
    "5) What is the relationship between map calls and list comprehensions? Make a comparison and\n",
    "contrast between the two."
   ]
  },
  {
   "cell_type": "markdown",
   "id": "01391004",
   "metadata": {},
   "source": [
    "map :-\n",
    "\n",
    "* It is inbuilt function inside the python.\n",
    "* It is useful whenever we want to get some conversion data from one to another form in term of datatype,arthematical operation or encoding the data."
   ]
  },
  {
   "cell_type": "code",
   "execution_count": 24,
   "id": "7ca20fda",
   "metadata": {},
   "outputs": [],
   "source": [
    "lst =list(range(10))"
   ]
  },
  {
   "cell_type": "code",
   "execution_count": 25,
   "id": "8b4ec399",
   "metadata": {},
   "outputs": [
    {
     "data": {
      "text/plain": [
       "[0, 1, 2, 3, 4, 5, 6, 7, 8, 9]"
      ]
     },
     "execution_count": 25,
     "metadata": {},
     "output_type": "execute_result"
    }
   ],
   "source": [
    "lst"
   ]
  },
  {
   "cell_type": "code",
   "execution_count": 26,
   "id": "2bd5225c",
   "metadata": {},
   "outputs": [],
   "source": [
    "func= lambda i:i*i"
   ]
  },
  {
   "cell_type": "code",
   "execution_count": 27,
   "id": "4296bfb1",
   "metadata": {},
   "outputs": [],
   "source": [
    "func2=lambda i:str(i)"
   ]
  },
  {
   "cell_type": "code",
   "execution_count": 28,
   "id": "95e1fcb3",
   "metadata": {},
   "outputs": [
    {
     "name": "stdout",
     "output_type": "stream",
     "text": [
      "[0, 1, 4, 9, 16, 25, 36, 49, 64, 81]\n"
     ]
    }
   ],
   "source": [
    "obj = map(func,lst)\n",
    "print(list(obj))"
   ]
  },
  {
   "cell_type": "markdown",
   "id": "06a1021a",
   "metadata": {},
   "source": [
    "There is data is getting converted in another form."
   ]
  },
  {
   "cell_type": "code",
   "execution_count": 29,
   "id": "c923b070",
   "metadata": {},
   "outputs": [
    {
     "name": "stdout",
     "output_type": "stream",
     "text": [
      "['0', '1', '2', '3', '4', '5', '6', '7', '8', '9']\n"
     ]
    }
   ],
   "source": [
    "obj2 = map(func2,lst)\n",
    "print(list(obj2))"
   ]
  },
  {
   "cell_type": "markdown",
   "id": "cf3e6a7a",
   "metadata": {},
   "source": [
    "Data type is also getting changes.\n",
    "\n",
    "List Comprehension:-\n",
    "\n",
    "* It is useful when we have data and want to get the data in iterative manner.\n",
    "* Like we have data from 1 to 1000 and if suppose we want that in one line operation that we can use list comprehension.\n",
    "* It help to get the rid from indentation error."
   ]
  },
  {
   "cell_type": "markdown",
   "id": "f64ba0e4",
   "metadata": {},
   "source": [
    "Comparision--->\n",
    "\n",
    "\n",
    "* Map at the end creates the adreess on the object then for getting the data use list.\n",
    "* In input we can give any type of data structure like tuple,dictionary etc.\n",
    "* In the list comprihension we have suppose to use the list as data structure of python."
   ]
  }
 ],
 "metadata": {
  "kernelspec": {
   "display_name": "Python 3 (ipykernel)",
   "language": "python",
   "name": "python3"
  },
  "language_info": {
   "codemirror_mode": {
    "name": "ipython",
    "version": 3
   },
   "file_extension": ".py",
   "mimetype": "text/x-python",
   "name": "python",
   "nbconvert_exporter": "python",
   "pygments_lexer": "ipython3",
   "version": "3.9.12"
  }
 },
 "nbformat": 4,
 "nbformat_minor": 5
}
