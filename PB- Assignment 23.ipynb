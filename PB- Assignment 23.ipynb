{
 "cells": [
  {
   "cell_type": "markdown",
   "id": "83753b17",
   "metadata": {},
   "source": [
    "1. What is the result of the code, and why?\n",
    "&gt;&gt;&gt; def func(a, b=6, c=8):\n",
    "print(a, b, c)\n",
    "&gt;&gt;&gt; func(1, 2)"
   ]
  },
  {
   "cell_type": "code",
   "execution_count": null,
   "id": "7d1de0fd",
   "metadata": {},
   "outputs": [],
   "source": [
    "def func(a,b=6,c=8):\n",
    "    print(a,b,c)\n",
    "    \n",
    "#It is not giving me any result because I havn't call the function called as func"
   ]
  },
  {
   "cell_type": "markdown",
   "id": "8f54c7da",
   "metadata": {},
   "source": [
    "2. What is the result of this code, and why?\n",
    "&gt;&gt;&gt; def func(a, b, c=5):\n",
    "print(a, b, c)\n",
    "&gt;&gt;&gt; func(1, c=3, b=2)"
   ]
  },
  {
   "cell_type": "code",
   "execution_count": null,
   "id": "437a8b62",
   "metadata": {},
   "outputs": [],
   "source": [
    "def func(a,b,c=5):\n",
    "    print(a,b,c)\n",
    "\n",
    "func(1,c=3,b=5)"
   ]
  },
  {
   "cell_type": "raw",
   "id": "13eddbcf",
   "metadata": {},
   "source": [
    "1-It is going to result that is 1 5 3 because we have used the attributes a,b and c\n",
    "2-In that a and b are not default and we have to insert the value of it while calling the function in the order they had used while making the function and if we don't know the extact order then we have to metion its name and assign the number.\n",
    "3-In the case of c,It is like default variable if we do not use while calling the func function,it will automatically return the value of c that is 5 in this case but if in case we want to change that value and want to add other value instaed of default value like we have did in this case c=3 while calling the function."
   ]
  },
  {
   "cell_type": "markdown",
   "id": "5be7b253",
   "metadata": {},
   "source": [
    "3. How about this code: what is its result, and why?\n",
    "&gt;&gt;&gt; def func(a, *pargs):\n",
    "print(a, pargs)\n",
    "&gt;&gt;&gt; func(1, 2, 3)"
   ]
  },
  {
   "cell_type": "code",
   "execution_count": 1,
   "id": "fd3f5c94",
   "metadata": {},
   "outputs": [
    {
     "name": "stdout",
     "output_type": "stream",
     "text": [
      "1 (2, 3)\n"
     ]
    }
   ],
   "source": [
    "def func(a,*pargs):\n",
    "    print(a,pargs)\n",
    "\n",
    "func(1,2,3)"
   ]
  },
  {
   "cell_type": "markdown",
   "id": "22a7e2ff",
   "metadata": {},
   "source": [
    "-In the above code we have given the 1st attribute and after that we have use keyword like *pargs.\n",
    "-That keyword use to represent that we can use any number of attributes.\n",
    "-There is no limit on it.\n",
    "-so while calling this particular function that is func,we are getting an output 1(2,3)\n",
    "-because in first attriibute that is a we are getting call for 1.\n",
    "and afterwards whichever the values we have got in the form of tuple data container are comes under the *pargs because it is helping us to get other attributes apart from the a atribute which was already came at the 1st place that is a."
   ]
  },
  {
   "cell_type": "markdown",
   "id": "2afe1e33",
   "metadata": {},
   "source": [
    "4. What does this code print, and why?\n",
    "&gt;&gt;&gt; def func(a, **kargs):\n",
    "print(a, kargs)\n",
    "&gt;&gt;&gt; func(a=1, c=3, b=2)"
   ]
  },
  {
   "cell_type": "code",
   "execution_count": 2,
   "id": "b2ef3f65",
   "metadata": {},
   "outputs": [
    {
     "name": "stdout",
     "output_type": "stream",
     "text": [
      "1 {'b': 3, 'c': 2}\n"
     ]
    }
   ],
   "source": [
    "def func(a,**kargs):\n",
    "    print(a,kargs)\n",
    "\n",
    "func(a=1,b=3,c=2)"
   ]
  },
  {
   "cell_type": "markdown",
   "id": "9359b186",
   "metadata": {},
   "source": [
    "-In this function we have use the 1st attribute that is a and 2nd attribute **kargs.\n",
    "-In this while calling function we have given the three attributes a,b,c and they have their respetcive values 1,3,and 2.\n",
    "-First execution is getting call for the attribute that is a for a=1 and afterwards for b and c\n",
    "-If we see we had used the keyword that is **kargs that is helping us to get call as many as output we want that that should be avaliable in form of key and value form while calling itself.\n",
    "-Because turing out the output of these kind of attribute in the form of dictionary.\n",
    "Thus we have got the result as per our attributes we had provided."
   ]
  },
  {
   "cell_type": "markdown",
   "id": "1222c8f1",
   "metadata": {},
   "source": [
    "5. What gets printed by this, and explain?\n",
    "&gt;&gt;&gt; def func(a, b, c=8, d=5): print(a, b, c, d)\n",
    "&gt;&gt;&gt; func(1, *(5, 6))"
   ]
  },
  {
   "cell_type": "code",
   "execution_count": 4,
   "id": "746e6bf5",
   "metadata": {},
   "outputs": [
    {
     "name": "stdout",
     "output_type": "stream",
     "text": [
      "1 5 6 5\n"
     ]
    }
   ],
   "source": [
    "def func(a,b,c=8,d=5):\n",
    "    print(a,b,c,d)\n",
    "func(1,*(5,6))"
   ]
  },
  {
   "cell_type": "code",
   "execution_count": 5,
   "id": "b1a8fa3c",
   "metadata": {},
   "outputs": [
    {
     "name": "stdout",
     "output_type": "stream",
     "text": [
      "1 5 6 7\n"
     ]
    }
   ],
   "source": [
    "def func(a,b,c=8,d=5):\n",
    "    print(a,b,c,d)\n",
    "func(1,*(5,6,7))"
   ]
  },
  {
   "cell_type": "markdown",
   "id": "1b77be31",
   "metadata": {},
   "source": [
    "-Here,we have function in which we have c and d default attributes with the value 8 and 5 respectively.\n",
    "-For the a and b we do not have the default values.\n",
    "-But while calling the function we have provided the value for first occurence attribute that is a.\n",
    "and then we had provided the tuple which is going to provide the value for two upcoming the attribues that are in order which -we had provided while making the this particular function.\n",
    "and then remaining attribute that is nothing but the d and which is default that is at the last attribute we have 5 at the end while calling."
   ]
  },
  {
   "cell_type": "markdown",
   "id": "bdfd2105",
   "metadata": {},
   "source": [
    "6. what is the result of this, and explain?\n",
    "&gt;&gt;&gt; def func(a, b, c): a = 2; b[0] = &#39;x&#39;; c[&#39;a&#39;] = &#39;y&#39;\n",
    "&gt;&gt;&gt; l=1; m=[1]; n={&#39;a&#39;:0}\n",
    "&gt;&gt;&gt; func(l, m, n)\n",
    "\n",
    "&gt;&gt;&gt; l, m, n"
   ]
  },
  {
   "cell_type": "code",
   "execution_count": 6,
   "id": "fb3d0e66",
   "metadata": {},
   "outputs": [],
   "source": [
    "def func(a,b,c):a = 2;b[0]='x';c['a']='y'\n",
    "l=1;m=[1];n={'a':0}\n",
    "\n",
    "func(l,m,n)"
   ]
  },
  {
   "cell_type": "code",
   "execution_count": 7,
   "id": "9aef7c42",
   "metadata": {},
   "outputs": [
    {
     "name": "stdout",
     "output_type": "stream",
     "text": [
      "1 [1] {'a': 0}\n"
     ]
    }
   ],
   "source": [
    "def func(a,b,c):\n",
    "    a = 2\n",
    "    b[0]='x'\n",
    "    c['a']='y'\n",
    "l=1\n",
    "m=[1]\n",
    "n={'a':0}\n",
    "\n",
    "\n",
    "print(l,m,n)"
   ]
  },
  {
   "cell_type": "code",
   "execution_count": 8,
   "id": "09edfebf",
   "metadata": {},
   "outputs": [
    {
     "name": "stdout",
     "output_type": "stream",
     "text": [
      "1 ['x'] {'a': 'y'}\n"
     ]
    }
   ],
   "source": [
    "def func(a,b,c):\n",
    "    a = 2\n",
    "    b[0]='x'\n",
    "    c['a']='y'\n",
    "l=1\n",
    "m=[1]\n",
    "n={'a':0}\n",
    "\n",
    "func(l,m,n)\n",
    "print(l,m,n)"
   ]
  },
  {
   "cell_type": "markdown",
   "id": "0a1801a5",
   "metadata": {},
   "source": [
    "-In this function,we have the three attributes these are the a,b,c but while calling the function we are providing the values l,m and n.\n",
    "\n",
    "l = 1\n",
    "\n",
    "m[1]\n",
    "\n",
    "n = {'a':0}\n",
    "\n",
    "-In the place of l we are getting the result that 1 because we have variable with named as l with this value while calling function and we have provided the 2 for the a variable but l=1 so it overriding the a=2 and making to a=1.\n",
    "\n",
    "-In the place of b we are getting the ['x'] because b[0] is the zeroth index we are getting the 'x'.Here objects are getting override the m to b[0].\n",
    "\n",
    "-In the n variable we have provided the key as 'a' and value '0' and afterwards it is calling the c attribute and it is showing the operation when the key we will find a and for that key we have assigned the value that is y."
   ]
  }
 ],
 "metadata": {
  "kernelspec": {
   "display_name": "Python 3 (ipykernel)",
   "language": "python",
   "name": "python3"
  },
  "language_info": {
   "codemirror_mode": {
    "name": "ipython",
    "version": 3
   },
   "file_extension": ".py",
   "mimetype": "text/x-python",
   "name": "python",
   "nbconvert_exporter": "python",
   "pygments_lexer": "ipython3",
   "version": "3.9.12"
  }
 },
 "nbformat": 4,
 "nbformat_minor": 5
}
